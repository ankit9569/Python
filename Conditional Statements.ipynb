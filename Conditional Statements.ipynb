{
 "cells": [
  {
   "cell_type": "markdown",
   "id": "e288d80d",
   "metadata": {},
   "source": [
    "# CONDITIONAL STATEMENTS IN PYTHON"
   ]
  },
  {
   "cell_type": "markdown",
   "id": "aafd6bef",
   "metadata": {},
   "source": [
    "<font color=\"red\">=>Conditionals statement are fundamental programming construct that allow you to control the flow of your program based on\n",
    "   on conditions that you specify.\n",
    "\n",
    "<font color=\"red\">=>These statements are used to perform different conditions based on different conditions.\n"
   ]
  },
  {
   "cell_type": "markdown",
   "id": "51e9baf4",
   "metadata": {},
   "source": [
    "<font color=\"blue\"> 1.if statement\n",
    "\n",
    "<font color=\"blue\">2.if--else statement\n",
    "\n",
    "<font color=\"blue\">  3. ternary opeartor statement\n",
    "\n",
    "<font color=\"blue\"> 4.Nested if__else statement\n",
    "\n",
    "<font color=\"blue\"> 5.if__elif__else statement\n",
    "\n",
    "<font color=\"blue\"> 6.Matchcase statement(3.10 introduced)\n",
    "\n",
    "<font color=\"blue\">7.Jumping statement(break,continue,pass,return,exit())\n"
   ]
  },
  {
   "cell_type": "markdown",
   "id": "0dfaee32",
   "metadata": {},
   "source": [
    "### IF STATEMENT IN PYTHON"
   ]
  },
  {
   "cell_type": "markdown",
   "id": "51ec0b24",
   "metadata": {},
   "source": [
    "#syntax:-\n",
    "\n",
    "if(condition):\n",
    "\n",
    "    statement"
   ]
  },
  {
   "cell_type": "code",
   "execution_count": 1,
   "id": "95710cc4",
   "metadata": {},
   "outputs": [
    {
     "name": "stdout",
     "output_type": "stream",
     "text": [
      "b is greater\n"
     ]
    }
   ],
   "source": [
    "#program\n",
    "a=34\n",
    "b=90\n",
    "if(b>a):\n",
    "    print(\"b is greater\")"
   ]
  },
  {
   "cell_type": "markdown",
   "id": "f7d91b17",
   "metadata": {},
   "source": [
    "### IF__ELSE STATEMENT "
   ]
  },
  {
   "cell_type": "markdown",
   "id": "9babf100",
   "metadata": {},
   "source": [
    "#syntax:\n",
    "\n",
    "if(contition):\n",
    "    statement\n",
    "\n",
    "else:\n",
    "    statement\n",
    "    "
   ]
  },
  {
   "cell_type": "code",
   "execution_count": 2,
   "id": "a934be4a",
   "metadata": {},
   "outputs": [
    {
     "name": "stdout",
     "output_type": "stream",
     "text": [
      "entyer the number34\n",
      "num is even number\n"
     ]
    }
   ],
   "source": [
    "#program\n",
    "num=int(input(\"enter the number\"))\n",
    "if(num%2==0):\n",
    "    print(\"num is even number\")\n",
    "else:\n",
    "    print(\"num is odd number\")"
   ]
  },
  {
   "cell_type": "markdown",
   "id": "817cc9d4",
   "metadata": {},
   "source": [
    "### TERNARY OPERATOR STATEMENT \n"
   ]
  },
  {
   "cell_type": "markdown",
   "id": "559d158f",
   "metadata": {},
   "source": [
    "<font color=\"red\">=>This opeartor is short hand if statement in python"
   ]
  },
  {
   "cell_type": "code",
   "execution_count": 2,
   "id": "81338285",
   "metadata": {},
   "outputs": [
    {
     "name": "stdout",
     "output_type": "stream",
     "text": [
      "Enter any number67\n",
      "67 is odd number\n"
     ]
    }
   ],
   "source": [
    "n=int(input(\"Enter any number\"))\n",
    "print(n,\"is even number\") if(n%2==0) else print(n,\"is odd number\")"
   ]
  },
  {
   "cell_type": "code",
   "execution_count": 4,
   "id": "7e1316a7",
   "metadata": {},
   "outputs": [
    {
     "name": "stdout",
     "output_type": "stream",
     "text": [
      "Enter the required year:5909\n",
      "5909 is not leap year\n"
     ]
    }
   ],
   "source": [
    "yr=int(input(\"Enter the required year:\"))\n",
    "print(yr,\"is leap year\") if(yr%4==0) else print(yr,\"is not leap year\")"
   ]
  },
  {
   "cell_type": "markdown",
   "id": "0f9c2396",
   "metadata": {},
   "source": [
    "### NESTED IF ELSE STATEMENTS"
   ]
  },
  {
   "cell_type": "markdown",
   "id": "607a01cc",
   "metadata": {},
   "source": [
    " <font color=\"red\">=>Nested if statements means if statements inside another if statements is called nested if statements"
   ]
  },
  {
   "cell_type": "markdown",
   "id": "2d886710",
   "metadata": {},
   "source": [
    "syntax:\n",
    "\n",
    "if(cond1):\n",
    "    \n",
    "    if(cond2):\n",
    "        \n",
    "        statement 1:\n",
    "    \n",
    "    else:\n",
    "        \n",
    "        statement 2\n",
    "\n",
    "else:\n",
    "    \n",
    "    if(cond3):\n",
    "        \n",
    "        statement 3\n",
    "    \n",
    "    else:\n",
    "        \n",
    "        statement 4\n"
   ]
  },
  {
   "cell_type": "code",
   "execution_count": 8,
   "id": "c2931370",
   "metadata": {},
   "outputs": [
    {
     "name": "stdout",
     "output_type": "stream",
     "text": [
      "Enter the value of a34\n",
      "Enter the value of b45\n",
      "enter the value of c56\n",
      "56 is greater\n"
     ]
    }
   ],
   "source": [
    "#program of nested if else statement \n",
    "a=int(input(\"Enter the value of a\"))\n",
    "b=int(input(\"Enter the value of b\"))\n",
    "c=int(input(\"enter the value of c\"))\n",
    "\n",
    "if(a>b):\n",
    "    if(a>c):\n",
    "        print(a,\"is greater\")\n",
    "    else:\n",
    "        print(c,\"is greater\")\n",
    "\n",
    "else:\n",
    "    if(b>c):\n",
    "        if(b>a):\n",
    "            print(b,\"is greater\")\n",
    "        else:\n",
    "            print(a,\"is greater\")\n",
    "    else:\n",
    "        print(c,\"is greater\")"
   ]
  },
  {
   "cell_type": "markdown",
   "id": "8f5792b7",
   "metadata": {},
   "source": [
    "### IF__ELIF__ELSE STATEMENT"
   ]
  },
  {
   "cell_type": "markdown",
   "id": "b2c8f528",
   "metadata": {},
   "source": [
    "syntax:\n",
    "    \n",
    "if(cond 1):\n",
    "    \n",
    "    statement1\n",
    "                \n",
    "elif(cond 2):\n",
    "  \n",
    "statement 2\n",
    "\n",
    "elif(cond 3):\n",
    "   \n",
    "statement 3\n",
    "\n",
    "elif(cond 4):\n",
    "  \n",
    "statement 4\n",
    "\n",
    "else:\n",
    "   \n",
    "statement "
   ]
  },
  {
   "cell_type": "code",
   "execution_count": 14,
   "id": "00042b8c",
   "metadata": {},
   "outputs": [
    {
     "name": "stdout",
     "output_type": "stream",
     "text": [
      "Enter the number330\n",
      "330 is greater than 100\n"
     ]
    }
   ],
   "source": [
    "num=int(input(\"Enter the number\"))\n",
    "if(num>=0 and num<10):\n",
    "    print(num,\"is between 0 to 10\")\n",
    "elif(num>=10 and num<50):\n",
    "    print(num,\"is between 10 to 50\")\n",
    "elif(num>=50 and num<100):\n",
    "    print(num,\"is between 50 to 100\")\n",
    "else:\n",
    "    print(num,\"is greater than 100\")"
   ]
  },
  {
   "cell_type": "markdown",
   "id": "efa74687",
   "metadata": {},
   "source": [
    "# Match Case Statement in Pthon [3.10]"
   ]
  },
  {
   "cell_type": "markdown",
   "id": "245b21ae",
   "metadata": {},
   "source": [
    "=>Match case statement is same as Switch case statement that is used in python programming\n",
    "\n",
    "=>syntax\n",
    "\n",
    "match opt:\n",
    "   \n",
    "    case 1:\n",
    "       \n",
    "        statement\n",
    "    \n",
    "    case 2:\n",
    "        \n",
    "        statement\n",
    "    \n",
    "    case 3:\n",
    "        \n",
    "        statement\n",
    "    \n",
    "    case 4:\n",
    "        \n",
    "        statement\n",
    "    \n",
    "    \n",
    "    case _:\n",
    "        \n",
    "        print(\"Invalid \")"
   ]
  },
  {
   "cell_type": "code",
   "execution_count": 3,
   "id": "23c82d89",
   "metadata": {},
   "outputs": [
    {
     "name": "stdout",
     "output_type": "stream",
     "text": [
      "Enter the value of a:2\n",
      "Enter the value of b:2\n",
      "Enter any operator(+/-/*//)d\n",
      "Invalid operator\n"
     ]
    }
   ],
   "source": [
    "#program of match case statement in python\n",
    "a=int(input(\"Enter the value of a:\"))\n",
    "b=int(input(\"Enter the value of b:\"))\n",
    "opt=input(\"Enter any operator(+/-/*//)\")\n",
    "\n",
    "match opt:\n",
    "    case '+':\n",
    "        print(\"Add =\",a+b)\n",
    "    case '-':\n",
    "        print(\"Sub =\",a-b)\n",
    "    case '*':\n",
    "        print(\"Mul =\",a*b)\n",
    "    case '/':\n",
    "        print(\"Div =\",a/b)\n",
    "    case _:\n",
    "        print(\"Invalid operator\")"
   ]
  },
  {
   "cell_type": "markdown",
   "id": "6dd36d76",
   "metadata": {},
   "source": [
    "##### <font color=\"red\">Walrus operator(:-)"
   ]
  },
  {
   "cell_type": "markdown",
   "id": "3dce26a2",
   "metadata": {},
   "source": [
    "The walrus operator introduced in python 3.8 offers a way to accomplish two tasks at once\n",
    "\n",
    "1.assigning the value to the variable\n",
    "\n",
    "2.returning that value\n",
    "\n",
    "3.code optimization"
   ]
  },
  {
   "cell_type": "code",
   "execution_count": 6,
   "id": "5b39358d",
   "metadata": {},
   "outputs": [
    {
     "name": "stdout",
     "output_type": "stream",
     "text": [
      "True\n",
      "\n",
      "True\n"
     ]
    }
   ],
   "source": [
    "a=True\n",
    "print(a)\n",
    "print()\n",
    "#program of walrus operator in python\n",
    "print(a:=True)"
   ]
  },
  {
   "cell_type": "markdown",
   "id": "974d7dc4",
   "metadata": {},
   "source": [
    "# <font color=\"red\">LOOPING STATEMENT IN PYTHON"
   ]
  },
  {
   "cell_type": "markdown",
   "id": "d09b32b7",
   "metadata": {},
   "source": [
    "=>looping statement are used to execute a same block of code of specified number of times.\n",
    "\n",
    "=>Generally in Python loop are of two types:-\n",
    "    \n",
    "    1)While loop\n",
    "    \n",
    "    2)For loop\n",
    "\n",
    "    \n",
    "<font color=\"blue\">Advantages of loop\n",
    "\n",
    "=>execution is fast\n",
    "\n",
    "=>Code complexity reduces\n",
    "\n",
    "=>Code optimize is done\n"
   ]
  },
  {
   "cell_type": "markdown",
   "id": "699c95af",
   "metadata": {},
   "source": [
    "##### <font color=\"blue\">While Loop"
   ]
  },
  {
   "cell_type": "code",
   "execution_count": null,
   "id": "b765f393",
   "metadata": {},
   "outputs": [],
   "source": [
    "=>It is also called entry controlled loop because condition is checked at the starting of the loop.\n",
    "\n",
    "Syntax:-\n",
    "\n",
    "initilization\n",
    "\n",
    "while(condition):\n",
    "   \n",
    "   body of loop\n",
    "    \n",
    "   increment(decrement)\n",
    "\n",
    "=>if the conditions at the start of the loop becomes false then the loop will not be executed.\n",
    "\n",
    "=>non zero true mana jayga\n"
   ]
  },
  {
   "cell_type": "code",
   "execution_count": 1,
   "id": "906f185d",
   "metadata": {},
   "outputs": [
    {
     "name": "stdout",
     "output_type": "stream",
     "text": [
      "-5\n",
      "-4\n",
      "-3\n",
      "-2\n",
      "-1\n"
     ]
    }
   ],
   "source": [
    "#program\n",
    "i=-5\n",
    "while(i):\n",
    "    print(i)\n",
    "    i+=1\n",
    "    \n",
    "    \n"
   ]
  },
  {
   "cell_type": "markdown",
   "id": "16f4b14c",
   "metadata": {},
   "source": [
    "#### <font color=\"blue\">For  Loop</font>"
   ]
  },
  {
   "cell_type": "markdown",
   "id": "8af08f59",
   "metadata": {},
   "source": [
    "Syntax:\n",
    "\n",
    "=>for var in sequence:\n",
    "    \n",
    "    body of loop\n",
    "    \n",
    "sequence:-list\n",
    "        \n",
    "        :-tuple\n",
    "            \n",
    "        :dictionary\n",
    "            \n",
    "        :set\n",
    "        \n",
    "        :string"
   ]
  },
  {
   "cell_type": "code",
   "execution_count": 2,
   "id": "f473256a",
   "metadata": {},
   "outputs": [
    {
     "name": "stdout",
     "output_type": "stream",
     "text": [
      "red\n",
      "yellow\n",
      "green\n",
      "blue\n"
     ]
    }
   ],
   "source": [
    "color=['red','yellow','green','blue']\n",
    "for i in color:\n",
    "    print(i)"
   ]
  },
  {
   "cell_type": "markdown",
   "id": "af506740",
   "metadata": {},
   "source": [
    "#### <font color=\"red\">range()\n"
   ]
  },
  {
   "cell_type": "markdown",
   "id": "f9d9afa3",
   "metadata": {},
   "source": [
    "=>It is predefined functions and it always returns a sequence of numbers starting with 0 by default,and increments by\n",
    "\n",
    "1(bydefault ) and it stops before a specified number.\n",
    "\n",
    "syntax:-\n",
    "    \n",
    "    range(start,end,step)"
   ]
  },
  {
   "cell_type": "markdown",
   "id": "8454ad0f",
   "metadata": {},
   "source": [
    "### <font color=\"red\">Working of for loop"
   ]
  },
  {
   "cell_type": "code",
   "execution_count": 1,
   "id": "8ad31261",
   "metadata": {},
   "outputs": [
    {
     "name": "stdout",
     "output_type": "stream",
     "text": [
      "red\n",
      "green\n",
      "yellow\n",
      "blue\n",
      "\n",
      "<list_iterator object at 0x000001E0E5DB8D00>\n",
      "red\n",
      "green\n",
      "yellow\n",
      "blue\n"
     ]
    },
    {
     "ename": "StopIteration",
     "evalue": "",
     "output_type": "error",
     "traceback": [
      "\u001b[1;31m---------------------------------------------------------------------------\u001b[0m",
      "\u001b[1;31mStopIteration\u001b[0m                             Traceback (most recent call last)",
      "Cell \u001b[1;32mIn[1], line 13\u001b[0m\n\u001b[0;32m     11\u001b[0m \u001b[38;5;28mprint\u001b[39m(\u001b[38;5;28mnext\u001b[39m(it))\n\u001b[0;32m     12\u001b[0m \u001b[38;5;28mprint\u001b[39m(\u001b[38;5;28mnext\u001b[39m(it))\n\u001b[1;32m---> 13\u001b[0m \u001b[38;5;28mprint\u001b[39m(\u001b[38;5;28;43mnext\u001b[39;49m\u001b[43m(\u001b[49m\u001b[43mit\u001b[49m\u001b[43m)\u001b[49m)\n",
      "\u001b[1;31mStopIteration\u001b[0m: "
     ]
    }
   ],
   "source": [
    "color=['red','green','yellow','blue']\n",
    "for i in color:\n",
    "    print(i)\n",
    "    \n",
    "print()\n",
    "#working\n",
    "it=iter(color)\n",
    "print(it)\n",
    "print(next(it))\n",
    "print(next(it))\n",
    "print(next(it))\n",
    "print(next(it))\n",
    "print(next(it))\n"
   ]
  },
  {
   "cell_type": "markdown",
   "id": "0c935e72",
   "metadata": {},
   "source": [
    "#### <font color=\"red\">looping with index\n"
   ]
  },
  {
   "cell_type": "code",
   "execution_count": 14,
   "id": "16f3a58e",
   "metadata": {},
   "outputs": [
    {
     "name": "stdout",
     "output_type": "stream",
     "text": [
      "0 red\n",
      "1 green\n",
      "2 yellow\n",
      "3 blue\n",
      "\n",
      "0 red\n",
      "1 green\n",
      "2 yellow\n",
      "3 blue\n"
     ]
    }
   ],
   "source": [
    "color=['red','green','yellow','blue']\n",
    "for i in range(len(color)):\n",
    "    print(i,color[i])\n",
    "print()    \n",
    "#another methods for doing that\n",
    "for i,j in enumerate(color):\n",
    "    print(i,j)"
   ]
  },
  {
   "cell_type": "markdown",
   "id": "9e27e49f",
   "metadata": {},
   "source": [
    "### <font color=\"red\">F string in python </font>"
   ]
  },
  {
   "cell_type": "markdown",
   "id": "a45fa82b",
   "metadata": {},
   "source": [
    "=>The string formatting style makes the string more readable,more concise,and less prone to error.It is also faster \n",
    "\n",
    "than the other"
   ]
  },
  {
   "cell_type": "markdown",
   "id": "829f4f4a",
   "metadata": {},
   "source": [
    "format specifier               Meaning\n",
    "\n",
    "%d                             for dispaly integer value\n",
    "\n",
    "%f                             for display float value\n",
    "\n",
    "%s                             for display string value\n"
   ]
  },
  {
   "cell_type": "code",
   "execution_count": 17,
   "id": "5c0b365f",
   "metadata": {},
   "outputs": [
    {
     "name": "stdout",
     "output_type": "stream",
     "text": [
      "Today id 19 August 2023.000000\n",
      "Today id 19 August 2023.0\n",
      "Today is 19 August 2023.0\n"
     ]
    }
   ],
   "source": [
    "d=19\n",
    "m='August'\n",
    "y=2023.00\n",
    "\n",
    "# three ways to use format specifier\n",
    "print(\"Today id %d %s %f\" %(d,m,y))\n",
    "print(\"Today id {0} {1} {2}\".format(d,m,y))\n",
    "print(f\"Today is {d} {m} {y}\")"
   ]
  },
  {
   "cell_type": "markdown",
   "id": "40d93d99",
   "metadata": {},
   "source": [
    "#### <font color=\"red\">Zip function </font>"
   ]
  },
  {
   "cell_type": "code",
   "execution_count": 19,
   "id": "83dc282f",
   "metadata": {},
   "outputs": [
    {
     "name": "stdout",
     "output_type": "stream",
     "text": [
      "(11, 'aman', 23, 2333)\n",
      "(22, 'deepak', 28, 3332)\n",
      "(33, 'pankag', 27, 3333)\n",
      "(44, 'Raj', 30, 2233)\n"
     ]
    }
   ],
   "source": [
    "id=[11,22,33,44]\n",
    "name=['aman','deepak','pankag','Raj']\n",
    "age=[23,28,27,30]\n",
    "salary=[2333,3332,3333,2233]\n",
    "city=['noida','delhi','patna','mumbai']\n",
    "for i in zip(id,name,age,salary):\n",
    "    print(i)"
   ]
  },
  {
   "cell_type": "markdown",
   "id": "30efd70c",
   "metadata": {},
   "source": [
    "#### <font color=\"red\">How To create dynamic list</font>"
   ]
  },
  {
   "cell_type": "code",
   "execution_count": 23,
   "id": "b96f8d21",
   "metadata": {},
   "outputs": [
    {
     "name": "stdout",
     "output_type": "stream",
     "text": [
      "Enter any length:3\n",
      "Enter the number3\n",
      "Enter the number3\n",
      "Enter the number3\n",
      "[3, 3, 3]\n"
     ]
    }
   ],
   "source": [
    "li=[]\n",
    "i=0\n",
    "x=int(input(\"Enter any length:\"))\n",
    "while(i<x):\n",
    "    n=int(input(\"Enter the number\"))\n",
    "    li.append(n)\n",
    "    i+=1\n",
    "print(li)"
   ]
  },
  {
   "cell_type": "markdown",
   "id": "3d9a4ba0",
   "metadata": {},
   "source": [
    "#### <font color=\"red\">How to create dynamic dictionary</font>"
   ]
  },
  {
   "cell_type": "code",
   "execution_count": null,
   "id": "27f28b1e",
   "metadata": {},
   "outputs": [],
   "source": [
    "dic={}\n",
    "i=0\n",
    "x=int(input(\"Enter the length of the dictionary\"))\n",
    "while(i<x):\n",
    "    n=int(input(\"Enter the number\"))\n",
    "    dic[i]=n\n",
    "    i+=1\n",
    "print(dic)"
   ]
  },
  {
   "cell_type": "markdown",
   "id": "b2519db8",
   "metadata": {},
   "source": [
    "## List Comprehension"
   ]
  },
  {
   "cell_type": "code",
   "execution_count": null,
   "id": "8c6fe5e4",
   "metadata": {},
   "outputs": [],
   "source": [
    "=>list comprehension provide a concise way to create list.It consists of brackets containg an expression foolowed by a for\n",
    "\n",
    "clause then zero or more cfor or if clause"
   ]
  },
  {
   "cell_type": "markdown",
   "id": "3c15ba94",
   "metadata": {},
   "source": [
    "###### <font color=\"red\">Syntax:-"
   ]
  },
  {
   "cell_type": "markdown",
   "id": "2a9b9690",
   "metadata": {},
   "source": [
    "result=[value  iteration filter]# value means (print)\n",
    "                                \n",
    "    #iteration means loop\n",
    "                                \n",
    "    #filter means(conditional statements)"
   ]
  },
  {
   "cell_type": "markdown",
   "id": "5c2665f9",
   "metadata": {},
   "source": [
    "#### <font color=\"red\">without using list comprehension"
   ]
  },
  {
   "cell_type": "code",
   "execution_count": 1,
   "id": "9a0389ff",
   "metadata": {},
   "outputs": [
    {
     "name": "stdout",
     "output_type": "stream",
     "text": [
      "[1, 4, 9, 16, 25, 36, 49, 64, 81, 100]\n"
     ]
    }
   ],
   "source": [
    "mylist=[]\n",
    "for x in range(1,11):\n",
    "    mylist.append(x**2)\n",
    "print(mylist)"
   ]
  },
  {
   "cell_type": "markdown",
   "id": "cf53b264",
   "metadata": {},
   "source": [
    "#### <font color=\"red\">With using list comprehension"
   ]
  },
  {
   "cell_type": "code",
   "execution_count": 4,
   "id": "d9b849ef",
   "metadata": {},
   "outputs": [
    {
     "name": "stdout",
     "output_type": "stream",
     "text": [
      "[1, 4, 9, 16, 25, 36, 49, 64, 81, 100]\n"
     ]
    }
   ],
   "source": [
    "result=[x**2 for x in range(1,11)]\n",
    "print(result)"
   ]
  },
  {
   "cell_type": "markdown",
   "id": "10baa9bb",
   "metadata": {},
   "source": [
    "### <font color=\"red\">Program by using List Comprehensions"
   ]
  },
  {
   "cell_type": "markdown",
   "id": "51bda4c2",
   "metadata": {},
   "source": [
    "#### program to check even number"
   ]
  },
  {
   "cell_type": "code",
   "execution_count": 8,
   "id": "f9230966",
   "metadata": {},
   "outputs": [
    {
     "name": "stdout",
     "output_type": "stream",
     "text": [
      "[2, 4, 6, 8, 10, 12]\n"
     ]
    }
   ],
   "source": [
    "result=[i for i in range(1,13) if(i%2==0)]\n",
    "print(result)"
   ]
  },
  {
   "cell_type": "markdown",
   "id": "a9b0d1e2",
   "metadata": {},
   "source": [
    "# jumping statements in python"
   ]
  },
  {
   "cell_type": "markdown",
   "id": "960e43fb",
   "metadata": {},
   "source": [
    "### <font color=\"red\">break statement"
   ]
  },
  {
   "cell_type": "markdown",
   "id": "45b69612",
   "metadata": {},
   "source": [
    "=>As the name suggests, a break statement is used to break or stop a flow control. \n",
    "\n",
    "=>This is generally used in a loop. \n",
    "\n",
    "=>A break statement is used in a loop in such a way, that when a particular condition becomes true, \n",
    "      \n",
    "    the break statement is executed and we come out of the loop immediately at that moment. "
   ]
  },
  {
   "cell_type": "markdown",
   "id": "c6309b69",
   "metadata": {},
   "source": [
    "Loop{\n",
    "    \n",
    "    Condition:\n",
    "       \n",
    "        break\n",
    "    }"
   ]
  },
  {
   "cell_type": "code",
   "execution_count": 9,
   "id": "4e13354e",
   "metadata": {},
   "outputs": [
    {
     "name": "stdout",
     "output_type": "stream",
     "text": [
      "1\n",
      "2\n"
     ]
    }
   ],
   "source": [
    "for i in range(1, 5):\n",
    "  # If this condition becomes true break will execute\n",
    "    if(i == 3):\n",
    "     # Break statement will terminate the entire loop\n",
    "        break\n",
    "    print(i)"
   ]
  },
  {
   "cell_type": "markdown",
   "id": "01a3813f",
   "metadata": {},
   "source": [
    "### <font color=\"red\">Continue"
   ]
  },
  {
   "cell_type": "markdown",
   "id": "24f9a9a8",
   "metadata": {},
   "source": [
    "=>The continue statement is somewhat similar to the break statement but there is one significant difference between them.  \n",
    "\n",
    "=>A break statement terminates the entire loop but the continue statement skips only the current iteration and \n",
    "    \n",
    "    continues with the rest steps. \n",
    "\n",
    "=>So, if we use the continue statement in a loop, it will only skip one iteration when the associated condition is true and\n",
    "       \n",
    "    then continue the rest of the loop unlike the break statement"
   ]
  },
  {
   "cell_type": "code",
   "execution_count": 10,
   "id": "1307e446",
   "metadata": {},
   "outputs": [
    {
     "name": "stdout",
     "output_type": "stream",
     "text": [
      "1\n",
      "3\n",
      "4\n"
     ]
    }
   ],
   "source": [
    "for i in range(1, 5):\n",
    "  # If this condition becomes true continue will execute\n",
    "    if(i == 2):\n",
    "      # Continue statement will skip the iteration when i=2 and continue the rest of the loop\n",
    "        continue\n",
    "    print(i)"
   ]
  },
  {
   "cell_type": "markdown",
   "id": "ebff0a41",
   "metadata": {},
   "source": [
    "### <font color=\"red\">Pass statements"
   ]
  },
  {
   "cell_type": "markdown",
   "id": "a83cea99",
   "metadata": {},
   "source": [
    "=>The pass statement is an interesting statement, as when it gets executed nothing happens. \n",
    "\n",
    "=>It plays the role of a placeholder. \n",
    "\n",
    "=>This means that, if we want to write a piece of code over there in the near future but we cannot keep that space empty, \n",
    "   \n",
    "    then we can use the pass statement. In simple words, it is used to avoid getting an error from keeping an empty space."
   ]
  },
  {
   "cell_type": "code",
   "execution_count": 13,
   "id": "3075dce8",
   "metadata": {},
   "outputs": [
    {
     "name": "stdout",
     "output_type": "stream",
     "text": [
      "L\n",
      "e\n",
      "e\n",
      "n\n",
      "d\n",
      "s\n"
     ]
    }
   ],
   "source": [
    "for alphabet in 'Legends':\n",
    "         # If alphabet='g' program will do nothing and won't print the letter\n",
    "    if(alphabet == 'g'):\n",
    "        pass\n",
    "    else:\n",
    "        print(alphabet)"
   ]
  },
  {
   "cell_type": "markdown",
   "id": "33644b02",
   "metadata": {},
   "source": [
    "### <font color=\"red\">return statements"
   ]
  },
  {
   "cell_type": "markdown",
   "id": "80e9f39a",
   "metadata": {},
   "source": [
    "=>A return statement is also one type of jump statement. \n",
    "\n",
    "=>“return” statement terminates a function and returns a value to the calling function.\n",
    "\n",
    "=>That means the return statement is overall used to invoke a function so that the passed statements can be executed.\n"
   ]
  },
  {
   "cell_type": "code",
   "execution_count": 15,
   "id": "8c303b3b",
   "metadata": {},
   "outputs": [
    {
     "name": "stdout",
     "output_type": "stream",
     "text": [
      "15\n"
     ]
    }
   ],
   "source": [
    "# Python program to demonstrate the\n",
    "# return statement\n",
    " \n",
    "# Function to multiply the two numbers\n",
    "# x and y\n",
    "def multiply(x, y):\n",
    " \n",
    "    # returning the multiplication\n",
    "    # of x and y\n",
    "    return x * y\n",
    " \n",
    "# Driver Code\n",
    "result = multiply(3, 5)\n",
    " \n",
    "print(result)"
   ]
  },
  {
   "cell_type": "markdown",
   "id": "cca6eeb9",
   "metadata": {},
   "source": [
    "### <Font color=\"red\">exit() function"
   ]
  },
  {
   "cell_type": "markdown",
   "id": "107eb467",
   "metadata": {},
   "source": [
    "=>The exit() function in Python is used to exit or terminate the current running script or program. \n",
    "\n",
    "=>You can use it to stop the execution of the program at any point. \n",
    "\n",
    "=>When the exit() function is called, the program will immediately stop running and exit."
   ]
  },
  {
   "cell_type": "code",
   "execution_count": 1,
   "id": "95622634",
   "metadata": {},
   "outputs": [
    {
     "name": "stdout",
     "output_type": "stream",
     "text": [
      "0\n",
      "1\n",
      "2\n",
      "3\n",
      "4\n",
      "Hello\n",
      "5\n",
      "6\n",
      "7\n",
      "8\n",
      "9\n"
     ]
    }
   ],
   "source": [
    "for i in range(10):\n",
    "    if i == 5:\n",
    "        print(\"Hello\")\n",
    "        brae\n",
    "    print(i)"
   ]
  },
  {
   "cell_type": "code",
   "execution_count": null,
   "id": "2abc6d65",
   "metadata": {},
   "outputs": [],
   "source": []
  }
 ],
 "metadata": {
  "kernelspec": {
   "display_name": "Python 3 (ipykernel)",
   "language": "python",
   "name": "python3"
  },
  "language_info": {
   "codemirror_mode": {
    "name": "ipython",
    "version": 3
   },
   "file_extension": ".py",
   "mimetype": "text/x-python",
   "name": "python",
   "nbconvert_exporter": "python",
   "pygments_lexer": "ipython3",
   "version": "3.10.9"
  }
 },
 "nbformat": 4,
 "nbformat_minor": 5
}
