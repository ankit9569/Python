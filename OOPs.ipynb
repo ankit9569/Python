{
 "cells": [
  {
   "cell_type": "markdown",
   "id": "3ec26d0a",
   "metadata": {},
   "source": [
    "# <font color=\"red\">OOPS IN PYTHON"
   ]
  },
  {
   "cell_type": "markdown",
   "id": "47ff5cca",
   "metadata": {},
   "source": [
    "## OVERVIEW OF OOPS\n"
   ]
  },
  {
   "cell_type": "markdown",
   "id": "613835b4",
   "metadata": {},
   "source": [
    "=>Object-oriented programming (OOP) is a programming pattern based on the concept of objects. \n",
    "\n",
    "=>Objects consist of data and methods. The object's data are its properties, which define what it is. \n",
    "\n",
    "=>And the object's methods, are its functions, that define what the object can do. \n",
    "\n",
    "=>Object-oriented style of programming is very popular because of its ability to map the virtual world entities i.e. \n",
    "     our code, to real-world objects. \n",
    "\n",
    "=>OOPS concepts are widely used by many popular programming languages due to the several advantages it provides."
   ]
  },
  {
   "cell_type": "markdown",
   "id": "4eda6aa9",
   "metadata": {},
   "source": [
    "## <font color=\"blue\">INTRODUCTION  OF OOPS"
   ]
  },
  {
   "cell_type": "markdown",
   "id": "fd043392",
   "metadata": {},
   "source": [
    "=>OOPS concepts in Python are very closely related to our real world, where we write programs to solve our problems. \n",
    "\n",
    "=>Solving any problem by creating objects is the most popular approach in programming.\n",
    "\n",
    "=>This approach is termed as Object Oriented Programming. \n",
    "\n",
    "=>Object-oriented programming maps our code instructions with real-world problems, making it easier to write and simpler \n",
    "    to understand. They map real-world entities(such as companies and employees) as 'software objects' that have some \n",
    "    'data' associated with them and can perform some 'functions'."
   ]
  },
  {
   "cell_type": "markdown",
   "id": "21f9bffd",
   "metadata": {},
   "source": [
    "## <font color=\"blue\">What are Oops concept in python"
   ]
  },
  {
   "cell_type": "markdown",
   "id": "9e32cf5c",
   "metadata": {},
   "source": [
    "=>OOPS in programming stand for Object Oriented Programming System. \n",
    "\n",
    "=>It is a programming paradigm or methodology, to design a program using classes and objects OOPS treats every entity as \n",
    "    an object.\n",
    "\n",
    "=>Object-oriented programming in Python is centered around objects. Any code written using OOPS is to solve our problem \n",
    "    but is represented in the form of Objects. We can create as many objects as we want, for a given class.\n",
    "\n",
    "=>So what are objects? Objects are anything that has properties and some behaviors.The properties of objects are often \n",
    "      referred to as variables of the object, and behaviors are referred to as the functions of the objects. Objects \n",
    "       can be real-life or logical.\n",
    "\n",
    "=>Suppose, a Pen is a real-life object. The property of a pen includes its color, and type (gel pen or ball pen). \n",
    "    And, the behavior of the pen may include that, it can write, draw, etc.\n",
    "\n",
    "=>Any file in your system is an example of a logical object. Files have properties like file_name, file_location, \n",
    "    file_size and their behaviors include they can hold data, can be downloaded, shared, etc"
   ]
  },
  {
   "cell_type": "markdown",
   "id": "a3a7f2b4",
   "metadata": {},
   "source": [
    "## <font color=\"blue\">Benefits of Oops"
   ]
  },
  {
   "cell_type": "markdown",
   "id": "42e84fa8",
   "metadata": {},
   "source": [
    "=>They reduce the redundancy of the code by writing clear and reusable codes (using inheritance).\n",
    "\n",
    "=>They are easier to visualize because they completely relate to real-world scenarios. For example, the concept of objects,\n",
    "  inheritance, and abstractions, relate very closely to real-world scenarios(we will discuss them further in this article).\n",
    "\n",
    "=>Every object in OOPS represent a different part of the code and has its own logic and data to communicate with each other.\n",
    "    So, there are no complications in the code."
   ]
  },
  {
   "cell_type": "markdown",
   "id": "c1c7796a",
   "metadata": {},
   "source": [
    "## <font color=\"blue\">Class and Objects in Python"
   ]
  },
  {
   "cell_type": "code",
   "execution_count": null,
   "id": "d5914682",
   "metadata": {},
   "outputs": [],
   "source": [
    "=>Suppose you wish to store the number of books you have, you can simply do that by using a variable. \n",
    "   Or, say you want to calculate the sum of 5 numbers and store it in a variable, well, that can be done too!\n",
    "\n",
    "=>Primitive data structures like numbers, strings, and lists are designed to store simple values in a variable. Suppose, \n",
    "    your name, or square of a number, or count of some marbles (say).\n",
    "\n",
    "=>But what if you need to store the details of all the Employees in your company? For example, you may try to \n",
    "     store every employee in a list, you may later be confused about which index of the list represents what details of the \n",
    "     employee(e.g. which is the name field, or the empID etc.)\n",
    "        \n",
    "=>Even if you try to store them in a dictionary, after an extent, the whole codebase will be too complex to handle. \n",
    "    So, in these scenarios, we use Classes in python.\n",
    "\n",
    "=>A class is used to create user-defined data structures in Python. Classes define functions, which are termed methods, \n",
    "   that describe the behaviors and actions that an object created from a class can perform. OOPS concepts in Python majorly\n",
    "      deal with classes and objects.\n",
    "\n",
    "=>Classes make the code more manageable by avoiding complex codebases. It does so, by creating a blueprint or a design of \n",
    "   how anything should be defined. It defines what properties or functions, any object which is derived from the class \n",
    "    should have."
   ]
  },
  {
   "cell_type": "markdown",
   "id": "ae435af5",
   "metadata": {},
   "source": [
    "### <font color=\"blue\">Clases definition"
   ]
  },
  {
   "cell_type": "markdown",
   "id": "2452a454",
   "metadata": {},
   "source": [
    "=>A class just defines the structure of how anything should look. It does not point to anything or anyone in particular. \n",
    "   For example, say, HUMAN is a class, which has suppose -- name, age, gender, city. \n",
    "    \n",
    "=>It does not point to any specific HUMAN out there, but yes, it explains the properties and functions any HUMAN should or \n",
    "    any object of class HUMAN should have."
   ]
  },
  {
   "cell_type": "markdown",
   "id": "7a0a4dc4",
   "metadata": {},
   "source": [
    "### <font color=\"blue\">object definition"
   ]
  },
  {
   "cell_type": "markdown",
   "id": "b9434ae3",
   "metadata": {},
   "source": [
    "=>An instance of a class is called the object. It is the implementation of the class and exists in real.\n",
    "\n",
    "=>An object is a collection of data (variables) and methods (functions) that access the data. \n",
    "  It is the real implementation of a class.\n",
    "\n"
   ]
  },
  {
   "cell_type": "markdown",
   "id": "20427397",
   "metadata": {},
   "source": [
    "## Human:-Class[it is just blueprint]\n",
    "### properties:-name,age,gender,city\n",
    "### methods:-walk,sleep,speak,eat\n",
    "\n",
    "\n",
    "## Ram:-object[it exists real]\n",
    "### properties:-Ram,15,male,delhi\n",
    "### methods:-can walk,can sleep,can speak,can eat"
   ]
  },
  {
   "cell_type": "markdown",
   "id": "c0a248bc",
   "metadata": {},
   "source": [
    "=>Consider this example, here Human is a class - It is just a blueprint that defines how Human should be, and not a real \n",
    "     implementation. You may say that \"Human\" class just exists logically.\n",
    "\n",
    "=>However, \"Ron\" is an object of the Human class (please refer to the image given above for understanding). That means, \n",
    "   Ron is created by using the blueprint of the Human class, and it contains the real data. \"Ron\" exists physically, \n",
    "    unlike \"Human\" (which just exists logically). He exists in real, and implements all the properties of the class Human, \n",
    "    such as, Ron have a name, he is 15 years old, he is a male, and lives in Delhi. Also, Ron implements all the methods of \n",
    "    Human class, suppose, Ron can walk, speak, eat, and sleep.\n",
    "\n",
    "=>And many humans can be created using the blueprint of class Human. Such as, we may create 1000s of more humans by \n",
    "   referring to the blueprint of the class Human, using objects.\n",
    "\n",
    "\n",
    "#### <font color=\"red\"> Important points\n",
    "\n",
    "=>class = blueprint(suppose an architectural drawing). The Object is an actual thing that is built based on the ‘blueprint’ \n",
    "   (suppose a house). An instance is a virtual copy (but not a real copy) of the object.\n",
    "    \n",
    "=>When a class is defined, only the blueprint of the object is created, and no memory is allocated to the class. \n",
    "Memory allocation occurs only when the object or instance is created. The object or instance contains real data or \n",
    "information.\n",
    "\n",
    "\n"
   ]
  },
  {
   "cell_type": "markdown",
   "id": "af64114d",
   "metadata": {},
   "source": [
    "### <font color=\"blue\">How to define class"
   ]
  },
  {
   "cell_type": "markdown",
   "id": "0f2cb424",
   "metadata": {},
   "source": [
    "=>Classes in Python can be defined by the keyword class, which is followed by the name of the class and a colon."
   ]
  },
  {
   "cell_type": "code",
   "execution_count": 2,
   "id": "7c65074a",
   "metadata": {},
   "outputs": [],
   "source": [
    "#syntax:\n",
    "class Employee:\n",
    "    pass\n"
   ]
  },
  {
   "cell_type": "markdown",
   "id": "aa1094b7",
   "metadata": {},
   "source": [
    "=>Indented code below the class definition is considered part of the class body.\n",
    "\n",
    "=>'pass' is commonly used as a placeholder, in the place of code whose implementation we may skip for the time being. \n",
    "   \"pass\" allows us to run the code without throwing an error in Python.\n"
   ]
  },
  {
   "cell_type": "markdown",
   "id": "f336ed63",
   "metadata": {},
   "source": [
    "#### <font color=\"red\"> what is init function?"
   ]
  },
  {
   "cell_type": "markdown",
   "id": "f650cc97",
   "metadata": {},
   "source": [
    "=>The properties that all Human objects must have been defined in a method called init(). Every time a new Human object is \n",
    "    created, __init__() sets the initial state of the object by assigning the values we provide inside the object’s \n",
    "    properties. That is, __init__() initializes each new instance of the class.\n",
    "\n",
    "=>__init__() can take any number of parameters, but the first parameter is always a variable called self.\n",
    "\n",
    "=>The self parameter is a reference to the current instance of the class. It means, the self parameter points to the \n",
    "    address of the current object of a class, allowing us to access the data of its(the object's) variables.\n",
    "\n",
    "=>So, even if we have 1000 instances (objects) of a class, we can always get each of their individual data due to this \n",
    "    self because it will point to the address of that particular object and return the respective value.\n",
    "\n",
    "\n"
   ]
  },
  {
   "cell_type": "markdown",
   "id": "25b7cdcb",
   "metadata": {},
   "source": [
    "###### <font color=\"red\">important Points"
   ]
  },
  {
   "cell_type": "markdown",
   "id": "45233fc6",
   "metadata": {},
   "source": [
    "=>We can use any name in place of self, but it has to be the first parameter of any function in the class."
   ]
  },
  {
   "cell_type": "code",
   "execution_count": 3,
   "id": "b802d54f",
   "metadata": {},
   "outputs": [],
   "source": [
    "#use of init function\n",
    "class Human:\n",
    "    def __init__(self, name, age, gender):\n",
    "        self.name = name\n",
    "        self.age = age\n",
    "        self.gender = gender\n",
    "        \n",
    "#In the body of .__init__(), we are using the self variable 3 times, for the following:\n",
    "\n",
    "#self.name = 'name' creates an attribute called name and assigns to it the value of the name parameter.\n",
    "\n",
    "#self.age = age attribute is created and assigned to the value of age parameter passed.\n",
    "\n",
    "#self.gender = gender attribute is created and assigned to the value of gender parameter passed.\n"
   ]
  },
  {
   "cell_type": "markdown",
   "id": "0d2478a1",
   "metadata": {},
   "source": [
    "### <font color=\"red\">Attributes "
   ]
  },
  {
   "cell_type": "markdown",
   "id": "fa06728d",
   "metadata": {},
   "source": [
    "#### class attribute"
   ]
  },
  {
   "cell_type": "markdown",
   "id": "2768d539",
   "metadata": {},
   "source": [
    "=>These are the variables that are the same for all instances of the class. They do not have new values for each \n",
    "    new instance created. They are defined just below the class definition.\n",
    "    \n"
   ]
  },
  {
   "cell_type": "code",
   "execution_count": 6,
   "id": "45c59592",
   "metadata": {},
   "outputs": [],
   "source": [
    "class Human:\n",
    "    #class attribute\n",
    "    species = \"Homo Sapiens\"\n",
    "#=>Here, the species will have a fixed value for any object we create"
   ]
  },
  {
   "cell_type": "markdown",
   "id": "5eea3519",
   "metadata": {},
   "source": [
    "#### Instance attribute"
   ]
  },
  {
   "cell_type": "markdown",
   "id": "d46d7383",
   "metadata": {},
   "source": [
    "=>Instance attributes are the variables that are defined inside of any function in class. \n",
    "\n",
    "=>Instance attributes have different values for every instance of the class. These values depend upon the value we \n",
    "     pass while creating the instance."
   ]
  },
  {
   "cell_type": "code",
   "execution_count": 1,
   "id": "1b4f55ea",
   "metadata": {},
   "outputs": [],
   "source": [
    "class Human:\n",
    "    #class attribute\n",
    "    species = \"Homo Sapiens\"\n",
    "    def __init__(self, name, age, gender):\n",
    "        self.name = name\n",
    "        self.age = age\n",
    "        self.gender = gender\n"
   ]
  },
  {
   "cell_type": "code",
   "execution_count": 2,
   "id": "dcad14d5",
   "metadata": {},
   "outputs": [],
   "source": [
    "#Here, name, age, and gender are the instance attributes. They will have different values for new instances of the class.\n",
    "\n",
    "#For properties that should have a similar value per instance of a class, use class attributes. \n",
    "#For properties that differ per instance, use instance attributes."
   ]
  },
  {
   "cell_type": "markdown",
   "id": "611fa815",
   "metadata": {},
   "source": [
    "### Creating a class an object"
   ]
  },
  {
   "cell_type": "markdown",
   "id": "d097022b",
   "metadata": {},
   "source": [
    "=>When we create a new object from a class, it is called instantiating an object. \n",
    "\n",
    "=>An object can be instantiated by the class name followed by the parentheses. We can assign the object of a class to any \n",
    "   variable.\n"
   ]
  },
  {
   "cell_type": "markdown",
   "id": "60906a1f",
   "metadata": {},
   "source": [
    "syntax:\n",
    "x=classname()#x[object]\n",
    "\n",
    "=>As soon as an object is instantiated, memory is allocated to them. \n",
    "\n",
    "=>So, if we compare 2 instances of the same class using '==', it will return false(because both will have different \n",
    "            memory assigned)."
   ]
  },
  {
   "cell_type": "code",
   "execution_count": 4,
   "id": "a68630fc",
   "metadata": {},
   "outputs": [],
   "source": [
    "#program\n",
    "class Human:\n",
    "    #class attribute\n",
    "    species = \"Homo Sapiens\"\n",
    "    def __init__(self, name, age, gender):\n",
    "        self.name = name\n",
    "        self.age = age\n",
    "        self.gender = gender\n",
    "        \n",
    "x = Human(\"Ron\", 15, \"Male\") \n",
    "y = Human(\"Miley\", 22, \"Female\")\n",
    "\n",
    "\n",
    "\n",
    "#Here, we have created 2 objects of the class Human passing all the required arguments.\n",
    "\n",
    "#=>Warning: If we do not pass the required arguments, it will throw a TypeError: TypeError: \n",
    "        #init() missing 3 required positional arguments: 'name', 'age', and 'gender'."
   ]
  },
  {
   "cell_type": "code",
   "execution_count": 9,
   "id": "8103198f",
   "metadata": {},
   "outputs": [
    {
     "name": "stdout",
     "output_type": "stream",
     "text": [
      "Ron\n",
      "Miley\n"
     ]
    }
   ],
   "source": [
    "#Let us now see, how to access those values using objects of the class. We can access the values of the instances by \n",
    "   #using dot notation.\n",
    "    \n",
    "class Human:\n",
    "    #class attribute\n",
    "    species = \"Homo Sapiens\"\n",
    "    def __init__(self, name, age, gender):\n",
    "        self.name = name\n",
    "        self.age = age\n",
    "        self.gender = gender\n",
    "        \n",
    "x = Human(\"Ron\", 15, \"Male\") \n",
    "y = Human(\"Miley\", 22, \"Female\")\n",
    "print(x.name)\n",
    "print(y.name)\n",
    "\n",
    "#So, we find that we can access the instance and class attributes just by using the dot operator.\n"
   ]
  },
  {
   "cell_type": "code",
   "execution_count": 19,
   "id": "2cfe1232",
   "metadata": {},
   "outputs": [
    {
     "name": "stdout",
     "output_type": "stream",
     "text": [
      "Homo Sapiens\n",
      "Homo Sapiens\n",
      "Hi! My name is Ron. I am a male, and I am 15 years old\n",
      "Hi! My name is Miley. I am a female, and I am 22 years old\n"
     ]
    }
   ],
   "source": [
    "# program\n",
    "class Human:\n",
    "    species = \"Homo Sapiens\"\n",
    "\n",
    "    def __init__(self, name, age, gender):\n",
    "        self.name = name\n",
    "        self.age = age\n",
    "        self.gender = gender\n",
    "\n",
    "\n",
    "# x and y are instances of class Human\n",
    "x = Human(\"Ron\", 15, \"male\")\n",
    "y = Human(\"Miley\", 22, \"female\")\n",
    "\n",
    "print(x.species)  # species are class attributes, hence will have same value for all instances\n",
    "print(y.species)\n",
    "\n",
    "# name, gender and age will have different values per instance, because they are instance attributes\n",
    "print(f\"Hi! My name is {x.name}. I am a {x.gender}, and I am {x.age} years old\")\n",
    "print(f\"Hi! My name is {y.name}. I am a {y.gender}, and I am {y.age} years old\")\n"
   ]
  },
  {
   "cell_type": "code",
   "execution_count": 21,
   "id": "46ddbc99",
   "metadata": {},
   "outputs": [],
   "source": [
    "#In the above example, we have our class attributes values same \"Homo Sapiens\", but the instance attributes values \n",
    "     #are different as per the value we passed while creating our object.\n",
    "\n"
   ]
  },
  {
   "cell_type": "code",
   "execution_count": 11,
   "id": "9ba0492d",
   "metadata": {},
   "outputs": [
    {
     "name": "stdout",
     "output_type": "stream",
     "text": [
      "Sapiens\n"
     ]
    }
   ],
   "source": [
    "#However, we can change the value of class attributes, by assigning classname.classAttribute with any new value.\n",
    "\n",
    "class Human:\n",
    "    #class attribute\n",
    "    species = \"Homo Sapiens\"\n",
    "    def __init__(self, name, age, gender):\n",
    "        self.name = name\n",
    "        self.age = age\n",
    "        self.gender = gender\n",
    "\n",
    "Human.species = \"Sapiens\"\n",
    "obj = Human(\"Brek\",11,\"male\")\n",
    "print(obj.species)"
   ]
  },
  {
   "cell_type": "markdown",
   "id": "2d3d3c6c",
   "metadata": {},
   "source": [
    "## Instance methods"
   ]
  },
  {
   "cell_type": "markdown",
   "id": "e1be8dcc",
   "metadata": {},
   "source": [
    "=>An instance method is a function defined within a class that can be called only from instances of that class. \n",
    "       Like init(), an instance method's first parameter is always self.\n",
    "\n",
    "=>Let's take an example and implement some functions can class Human can perform "
   ]
  },
  {
   "cell_type": "code",
   "execution_count": 26,
   "id": "2214e5a0",
   "metadata": {},
   "outputs": [
    {
     "name": "stdout",
     "output_type": "stream",
     "text": [
      "Hello everyone! I am Ciri\n",
      "I love to eat momos!!!\n"
     ]
    }
   ],
   "source": [
    "class Human:\n",
    "    #class attribute\n",
    "    species = \"Homo Sapiens\"\n",
    "    def __init__(self, name, age, gender):\n",
    "        self.name = name\n",
    "        self.age = age\n",
    "        self.gender = gender\n",
    "        \n",
    "    #Instance Method\n",
    "    def speak(self):\n",
    "        return f\"Hello everyone! I am {self.name}\"\n",
    "    \n",
    "    #Instance Method\n",
    "    def eat(self, favouriteDish):\n",
    "        return f\"I love to eat {favouriteDish}!!!\"\n",
    "\n",
    "x = Human(\"Ciri\",18,\"female\")\n",
    "print(x.speak())\n",
    "print(x.eat(\"momos\"))\n",
    "\n",
    "\n",
    "#This Human class has two instance methods:\n",
    "\n",
    "#speak(): It returns a string displaying the name of the Human.\n",
    "#eat(): It has one parameter \"favouriteDish\" and returns a string displaying the favorite dish of the Human."
   ]
  },
  {
   "cell_type": "markdown",
   "id": "327c8faf",
   "metadata": {},
   "source": [
    "# <font color=\"blue\">Fundamentals concept in python"
   ]
  },
  {
   "cell_type": "markdown",
   "id": "df681d71",
   "metadata": {},
   "source": [
    "=>There are four fundamental concept of object oriented classes.\n",
    "\n",
    "### Inheritance\n",
    "### Encapsulation\n",
    "### Polymorphism\n",
    "### Data abstraction"
   ]
  },
  {
   "cell_type": "markdown",
   "id": "a521751a",
   "metadata": {},
   "source": [
    "### <font color=\"red\">Inheritance"
   ]
  },
  {
   "cell_type": "markdown",
   "id": "db4f75a9",
   "metadata": {},
   "source": [
    "=>Inheritance is the process by which a class can inherit or derive the properties(or data) and methods(or functions) of \n",
    "    another class. Simply, the process of inheriting the properties of a parent class into a child class is known as \n",
    "    inheritance.\n",
    "\n",
    "=>The class whose properties are inherited is the Parent class, and the class that inherits the properties from the Parent \n",
    "      class is the Child class."
   ]
  },
  {
   "cell_type": "markdown",
   "id": "314d82ae",
   "metadata": {},
   "source": [
    "Syntax:-\n",
    "   \n",
    "class parent_class:\n",
    "\n",
    "#body of parent class\n",
    "\n",
    "class child_class( parent_class): # inherits the parent class\n",
    "\n",
    "#body of child class"
   ]
  },
  {
   "cell_type": "code",
   "execution_count": 2,
   "id": "f49f3a98",
   "metadata": {},
   "outputs": [
    {
     "name": "stdout",
     "output_type": "stream",
     "text": [
      "Hey! My name is John, I'm a male and I'm 15 years old\n",
      "I study in Sunshine Model School\n"
     ]
    }
   ],
   "source": [
    "#program\n",
    "class Human:     #parent class\n",
    "    def __init__(self, name, age, gender):\n",
    "        self.name = name\n",
    "        self.age = age\n",
    "        self.gender = gender\n",
    "\n",
    "    def description(self):\n",
    "        print(f\"Hey! My name is {self.name}, I'm a {self.gender} and I'm {self.age} years old\")\n",
    "\n",
    "class Boy(Human):    #child class\n",
    "    def schoolName(self, schoolname):\n",
    "        print(f\"I study in {schoolname}\")\n",
    "\n",
    "\n",
    "b = Boy('John', 15, 'male')\n",
    "b.description()\n",
    "b.schoolName(\"Sunshine Model School\")"
   ]
  },
  {
   "cell_type": "markdown",
   "id": "7820d7df",
   "metadata": {},
   "source": [
    "=>In the above example, the child class Boy is inheriting the parent class Human. So, when we create an object of the \n",
    "    Boy class, we can access all the methods and properties of its parent class, Human, because it is inheriting it.\n",
    "\n",
    "=>Also, we have defined a method in the Boy class, which is schoolName . The method schoolName cannot be accessed by \n",
    "    the parent class object. But, we can obviously call schoolName method by creating the child class object(Boy)."
   ]
  },
  {
   "cell_type": "code",
   "execution_count": 6,
   "id": "23b7bc82",
   "metadata": {},
   "outputs": [],
   "source": [
    "#program\n",
    "class Human:\n",
    "    def __init__(self,name,age,gender):\n",
    "        self.name = name\n",
    "        self.age = age\n",
    "        self.gender = gender\n",
    "    def description(self):\n",
    "        print(f\"Hey! My name is {self.name}, I'm a {self.gender} and I'm {self.age} years old\")\n",
    "        \n",
    "class Girl(Human):\n",
    "    def schoolName(self,schoolName):\n",
    "        print(\"I study in {schoolName}\")\n",
    "\n",
    "\n",
    "#h = Human('Lily',20,'girl') #h is the object of the parent class - Human\n",
    "#h.description()\n",
    "#h.schoolName('ABC Academy') #cannot access child class's method using parent class's object"
   ]
  },
  {
   "cell_type": "markdown",
   "id": "62374133",
   "metadata": {},
   "source": [
    "##### super() method in python"
   ]
  },
  {
   "cell_type": "markdown",
   "id": "e51a176d",
   "metadata": {},
   "source": [
    "=>The super() function in python is a inheritance-related function that refers to the parent class. \n",
    "  We can use it to find the method with a particular name in an object’s superclass. It is a very useful function. \n",
    "    \n",
    "Let us see how it works --\n",
    "\n",
    "Syntax: This is the syntax of the super function. We write the super() keyword followed by the method name we want to \n",
    "    refer from our parent class."
   ]
  },
  {
   "cell_type": "code",
   "execution_count": 17,
   "id": "60c1081e",
   "metadata": {},
   "outputs": [
    {
     "name": "stdout",
     "output_type": "stream",
     "text": [
      "Hey! My name is Lilly, I'm a girl and I'm 20 years old\n",
      "I can dance\n"
     ]
    }
   ],
   "source": [
    "class Human:\n",
    "    def __init__(self,name,age,gender):\n",
    "        self.name = name\n",
    "        self.age = age\n",
    "        self.gender = gender\n",
    "    def description(self):\n",
    "        print(f\"Hey! My name is {self.name}, I'm a {self.gender} and I'm {self.age} years old\")\n",
    "    \n",
    "    def dance(self):\n",
    "        print(\"I can dance\")\n",
    "        \n",
    "class Girl(Human):\n",
    "    def dance(self):\n",
    "        print(\"I can do classic dance\")\n",
    "    def activity(self):\n",
    "        super().dance()\n",
    "g = Girl('Lilly', 20, 'girl')\n",
    "g.description()\n",
    "g.activity()\n"
   ]
  },
  {
   "cell_type": "markdown",
   "id": "9dcaf00e",
   "metadata": {},
   "source": [
    "=>Here, we have defined the dance() method in Human and Girl classes. But, both methods have different implementations as \n",
    "  you can see. In Human class, the dance method says \"I can dance\", whereas in Girl class, the dance method says \n",
    "      \"I can do classical dance\". So, let us call the parent class's dance method from the child class.\n",
    "\n",
    "=>You can see, in line 19, we are calling the dance method using super().dance(). This will call the dance method from the \n",
    "  Human class. So, it prints \"I can dance\". Although, there was already an implementation for dance() in Girl(at line 15).\n",
    "\n",
    "=>When we call any method using super(), the method in the superclass will be called even if there is a method with the \n",
    "    same name in the subclass."
   ]
  },
  {
   "cell_type": "markdown",
   "id": "90c4312a",
   "metadata": {},
   "source": [
    "##### <font color=\"red\">Types of inhertace in python"
   ]
  },
  {
   "cell_type": "markdown",
   "id": "d35e176e",
   "metadata": {},
   "source": [
    "### Single Inheritance \n",
    "=>It is the simplest form of inheritance where a single child class is derived from a single parent class.\n",
    "    Due to its candid nature, it is also known as Simple Inheritance.\n",
    "<img src=\"https://www.scaler.com/topics/media/single-inheritance-in-python-1024x615.webp\" width=\"500px\" height=\"200px\">"
   ]
  },
  {
   "cell_type": "code",
   "execution_count": 14,
   "id": "185aefa3",
   "metadata": {},
   "outputs": [
    {
     "name": "stdout",
     "output_type": "stream",
     "text": [
      "Hello Parent\n",
      "Hello Child\n"
     ]
    }
   ],
   "source": [
    "#program\n",
    "# python 3 syntax\n",
    "# single inheritance example\n",
    " \n",
    "class parent:                  # parent class\n",
    "    def func1(self):\n",
    "        print(\"Hello Parent\")\n",
    " \n",
    "class child(parent):    \n",
    "  # child class\n",
    "    def func2(self):                 # we include the parent class\n",
    "        print(\"Hello Child\")   # as an argument in the child\n",
    "                               # class\n",
    " \n",
    "# Driver Code\n",
    "test = child()                 # object created\n",
    "test.func1()                   # parent method called via child object\n",
    "test.func2()                   # child method called\n",
    "\n"
   ]
  },
  {
   "cell_type": "markdown",
   "id": "99f7dd5a",
   "metadata": {},
   "source": [
    "### Multiple Inheritance\n",
    "=>In multiple inheritance, a single child class is inherited from two or more parent classes. It means the child class \n",
    "    has access to all the parent classes' methods and attributes.\n",
    "\n",
    "=>However, if two parents have the same “named” methods, the child class performs the method of the first parent in order \n",
    "  of reference. To better understand which class’s methods shall be executed first, we can use the Method Resolution Order \n",
    "    function (mro). It tells the order in which the child class is interpreted to visit the other classes.\n",
    "\n",
    "<img src=\"https://www.scaler.com/topics/media/multiple-inheritance-in-python-1024x615.webp\" width=\"500px\" height=\"200px\">"
   ]
  },
  {
   "cell_type": "code",
   "execution_count": 15,
   "id": "1a63f12a",
   "metadata": {},
   "outputs": [
    {
     "name": "stdout",
     "output_type": "stream",
     "text": [
      "Hello Parent1\n",
      "Hello Parent2\n",
      "Hello Child\n",
      "(<class '__main__.child'>, <class '__main__.parent1'>, <class '__main__.parent2'>, <class '__main__.parent3'>, <class 'object'>)\n"
     ]
    }
   ],
   "source": [
    "#program\n",
    "# python 3 syntax\n",
    "# multiple inheritance example\n",
    " \n",
    "class parent1:                     # first parent class\n",
    "    def func1(self):                   \n",
    "        print(\"Hello Parent1\")\n",
    " \n",
    "class parent2:                     # second parent class\n",
    "    def func2(self):                   \n",
    "        print(\"Hello Parent2\")\n",
    " \n",
    "class parent3:                     # third parent class\n",
    "    def func2(self):                     # the function name is same as parent2\n",
    "        print(\"Hello Parent3\")\n",
    " \n",
    "class child(parent1, parent2, parent3):     # child class\n",
    "    def func3(self):                     # we include the parent classes\n",
    "        print(\"Hello Child\")       # as an argument comma separated\n",
    "                           \n",
    "# Driver Code\n",
    "test = child()        # object created\n",
    "test.func1()          # parent1 method called via child\n",
    "test.func2()          # parent2 method called via child instead of parent3\n",
    "test.func3()          # child method called\n",
    " \n",
    "# to find the order of classes visited by the child class, we use __mro__ on the child class\n",
    "print(child.__mro__)\n"
   ]
  },
  {
   "cell_type": "markdown",
   "id": "fa35a880",
   "metadata": {},
   "source": [
    "=>As we can see with the help of mro, the child class first visits itself, then the first parent class, referenced before \n",
    "   the second parent class. Similarly, it visits the second parent class before the third parent class, and that’s why \n",
    "    it performs the second parent’s function rather than the third parent’s. Finally, it visits any objects that may have \n",
    "     been created."
   ]
  },
  {
   "cell_type": "markdown",
   "id": "e9598a65",
   "metadata": {},
   "source": [
    "### Multilevel inheritance\n",
    "=>In multilevel inheritance, we go beyond just a parent-child relation. We introduce grandchildren, great-grandchildren, \n",
    "   grandparents, etc. We have seen only two levels of inheritance with a superior parent class/es and a derived class/es, \n",
    "      but here we can have multiple levels where the parent class/es itself is derived from another class/es.\n",
    "      \n",
    "<img src=\"https://www.scaler.com/topics/media/multi-level-inheritance-in-python-1024x615.webp\" width=\"500px\" height=\"500px\">"
   ]
  },
  {
   "cell_type": "code",
   "execution_count": 16,
   "id": "99909344",
   "metadata": {},
   "outputs": [
    {
     "name": "stdout",
     "output_type": "stream",
     "text": [
      "Hello Grandparent\n",
      "Hello Parent\n",
      "Hello Child\n"
     ]
    }
   ],
   "source": [
    "#Program\n",
    "class grandparent:                 # first level\n",
    "    def func1(self):                   \n",
    "        print(\"Hello Grandparent\")\n",
    " \n",
    "class parent(grandparent):         # second level\n",
    "    def func2(self):                   \n",
    "        print(\"Hello Parent\")\n",
    " \n",
    "class child(parent):               # third level\n",
    "    def func3(self):                   \n",
    "        print(\"Hello Child\")   \n",
    "                               \n",
    " \n",
    "# Driver Code\n",
    "test = child()                     # object created\n",
    "test.func1()                       # 3rd level calls 1st level\n",
    "test.func2()                       # 3rd level calls 2nd level\n",
    "test.func3()                       # 3rd level calls 3rd level\n"
   ]
  },
  {
   "cell_type": "markdown",
   "id": "b773a1c5",
   "metadata": {},
   "source": [
    "### Hierarchical Inheritance\n",
    "=>Hierarchical Inheritance is the right opposite of multiple inheritance. It means that there are multiple derived child \n",
    "      classes from a single-parent class.\n",
    "<img src=\"https://www.scaler.com/topics/media/hierarchical-inheritance-in-python-1024x615.webp\" width=\"500px\" height=\"500px\">"
   ]
  },
  {
   "cell_type": "code",
   "execution_count": 17,
   "id": "4e100c06",
   "metadata": {},
   "outputs": [
    {
     "name": "stdout",
     "output_type": "stream",
     "text": [
      "Hello Parent\n",
      "Hello Child1\n",
      "Hello Parent\n",
      "Hello Child2\n"
     ]
    }
   ],
   "source": [
    "#Program\n",
    "# python 3 syntax\n",
    "# hierarchical inheritance example\n",
    " \n",
    "class parent:                       # parent class\n",
    "    def func1(self):                   \n",
    "        print(\"Hello Parent\")\n",
    " \n",
    "class child1(parent):               # first child class\n",
    "    def func2(self):                   \n",
    "        print(\"Hello Child1\")\n",
    " \n",
    " \n",
    "class child2(parent):               # second child class\n",
    "    def func3(self):                   \n",
    "        print(\"Hello Child2\")   \n",
    "                               \n",
    " \n",
    "# Driver Code\n",
    "test1 = child1()                     # objects created\n",
    "test2 = child2() \n",
    " \n",
    "test1.func1()                       # child1 calling parent method\n",
    "test1.func2()                       # child1 calling its own method\n",
    " \n",
    "test2.func1()                       # child2 calling parent method\n",
    "test2.func3()                       # child2 calling its own method\n"
   ]
  },
  {
   "cell_type": "markdown",
   "id": "fc17dff4",
   "metadata": {},
   "source": [
    "### Hybrid Inheritance \n",
    "=>Hybrid Inheritance is the mixture of two or more different types of inheritance. Here we can have many relationships \n",
    "   between parent and child classes with multiple levels.\n",
    "<img src=\"https://www.scaler.com/topics/media/hybrid-inheritance-in-python-1024x615.webp\" width=\"500px\" height=\"300px\">"
   ]
  },
  {
   "cell_type": "code",
   "execution_count": 18,
   "id": "63e239cd",
   "metadata": {},
   "outputs": [
    {
     "name": "stdout",
     "output_type": "stream",
     "text": [
      "Hello Parent\n",
      "Hello Child1\n",
      "Hello Parent\n",
      "Hello Parent\n",
      "Hello Child1\n",
      "Hello Child2\n"
     ]
    }
   ],
   "source": [
    "#Program\n",
    "# python 3 syntax\n",
    "# hybrid inheritance example\n",
    " \n",
    "class parent1:                            # first parent class\n",
    "    def func1(self):                   \n",
    "        print(\"Hello Parent\")\n",
    " \n",
    " \n",
    "class parent2:                            # second parent class\n",
    "    def func2(self):                   \n",
    "        print(\"Hello Parent\")\n",
    " \n",
    "class child1(parent1):                    # first child class\n",
    "    def func3(self):                   \n",
    "        print(\"Hello Child1\")\n",
    " \n",
    " \n",
    "class child2(child1, parent2):            # second child class\n",
    "    def func4(self):                   \n",
    "        print(\"Hello Child2\")   \n",
    "                               \n",
    " \n",
    "# Driver Code\n",
    "test1 = child1()                          # object created\n",
    "test2 = child2()\n",
    " \n",
    "test1.func1()                       # child1 calling parent1 method\n",
    "test1.func3()                       # child1 calling its own method\n",
    " \n",
    "test2.func1()                       # child2 calling parent1 method\n",
    "test2.func2()                       # child2 calling parent2 method\n",
    "test2.func3()                       # child2 calling child1 method\n",
    "test2.func4()                       # child2 calling its own method\n"
   ]
  },
  {
   "cell_type": "markdown",
   "id": "05c6a349",
   "metadata": {},
   "source": [
    "### <font color=\"red\">Polymorphism"
   ]
  },
  {
   "cell_type": "markdown",
   "id": "dcb3c0cd",
   "metadata": {},
   "source": [
    "=>The literal meaning of Polymorphism is - having different forms. In programming, Polymorphism refers to a function \n",
    "   having the same name but being used in different ways and different scenarios. This makes programming easier and more \n",
    "      intuitive.\n",
    "<img src=\"https://scaler-topics-articles-md.s3.us-west-2.amazonaws.com/what-is-polymorphism-in-python.webp\" width=\"500px\" height=\"300px\">\n",
    "\n",
    "=>Polymorphism is one of the fundamental cornerstones of Object Oriented Programming. It is the ability of one function \n",
    "  to display multiple functionalities all together. It basically creates a structure that can use many forms of objects.\n",
    "\n",
    "=>Polymorphism in Python involves a child class inheriting all the methods from the parent class. This can be implemented \n",
    "    in different ways which we will cover in detail in this article."
   ]
  },
  {
   "cell_type": "markdown",
   "id": "7f41d138",
   "metadata": {},
   "source": [
    "#### Function of Polymorphism in Python\n",
    "=>In Python, there are several functions that depict polymorphism by being compatible with multiple data types. The best      example of this is the in-built len() function."
   ]
  },
  {
   "cell_type": "code",
   "execution_count": 19,
   "id": "08e608e3",
   "metadata": {},
   "outputs": [
    {
     "name": "stdout",
     "output_type": "stream",
     "text": [
      "14\n",
      "3\n",
      "2\n"
     ]
    }
   ],
   "source": [
    "print(len(\"Scaler Academy\"))\n",
    "print(len([\"Python\", \"PHP\", \"C++\"]))\n",
    "print(len({\"Name\": \"Rahul\", \"Address\": \"Kolkata,India\"}))\n"
   ]
  },
  {
   "cell_type": "markdown",
   "id": "ad1fc8dd",
   "metadata": {},
   "source": [
    "<img src=\"https://scaler-topics-articles-md.s3.us-west-2.amazonaws.com/function-of-polymorphism-in-python.webp\" width=\"500px\" height=\"300px\">\n"
   ]
  },
  {
   "cell_type": "code",
   "execution_count": null,
   "id": "57c6f752",
   "metadata": {},
   "outputs": [],
   "source": [
    "### Class Polymorphism in Python\n",
    "=>Polymorphism in Python can also be implemented through classes. Python allows classes to have different methods \n",
    "   having the same name.\n"
   ]
  },
  {
   "cell_type": "code",
   "execution_count": 20,
   "id": "ac18c82c",
   "metadata": {},
   "outputs": [
    {
     "name": "stdout",
     "output_type": "stream",
     "text": [
      "Meow\n",
      "I am a cat. My name is Kitty. I am 2.5 years old.\n",
      "Meow\n",
      "Moo\n",
      "I am a Cow. My name is Fluffy. I am 4 years old.\n",
      "Moo\n"
     ]
    }
   ],
   "source": [
    "class Cat:\n",
    "    def __init__(self, name, age):\n",
    "        self.name = name\n",
    "        self.age = age\n",
    " \n",
    "    def info(self):\n",
    "        print(f\"I am a cat. My name is {self.name}. I am {self.age} years old.\")\n",
    " \n",
    "    def make_sound(self):\n",
    "        print(\"Meow\")\n",
    " \n",
    " \n",
    "class Cow:\n",
    "    def __init__(self, name, age):\n",
    "        self.name = name\n",
    "        self.age = age\n",
    " \n",
    "    def info(self):\n",
    "        print(f\"I am a Cow. My name is {self.name}. I am {self.age} years old.\")\n",
    " \n",
    "    def make_sound(self):\n",
    "        print(\"Moo\")\n",
    "cat1 = Cat(\"Kitty\", 2.5)\n",
    "cow1 = Cow(\"Fluffy\", 4)\n",
    " \n",
    "for animal in (cat1, cow1):\n",
    "    animal.make_sound()\n",
    "    animal.info()\n",
    "    animal.make_sound()\n"
   ]
  },
  {
   "cell_type": "markdown",
   "id": "aeb16613",
   "metadata": {},
   "source": [
    "<img src=\"https://scaler-topics-articles-md.s3.us-west-2.amazonaws.com/class-polymorphism-in-python.webp\" width=\"500px\" height=\"300px\">\n",
    "\n",
    "=>Now in this example, we have created two classes “Cat” and “Cow”. They’re different animals and make different sounds. \n",
    "   So, the make_sound() function should produce two different outputs based on the objects we pass through them. \n",
    "    In this case, we have created two objects “cat1” and “cow1”."
   ]
  },
  {
   "cell_type": "markdown",
   "id": "8d7a0568",
   "metadata": {},
   "source": [
    "### Polymorphism with Class Methods\n",
    "=>Python can use two different class types class times in the same way. This can be demonstrated through a simple example where we create two different classes and put them in a tuple.\n",
    "\n",
    "=>If we now iterate this tuple of objects, the for loop will execute all the given methods for the first object in the tuple, then the second object in the tuple and so on.\n",
    "\n",
    "=>Thus, in this way, we can say that Python would be calling or using these methods without knowing or caring about the class types of the objects. This is nothing but the example of Polymorphism in Python with class methods.\n",
    "\n",
    "\n"
   ]
  },
  {
   "cell_type": "code",
   "execution_count": 22,
   "id": "cf94ae80",
   "metadata": {},
   "outputs": [
    {
     "name": "stdout",
     "output_type": "stream",
     "text": [
      "Grumpy\n",
      "Meow\n",
      "Happy\n",
      "Woof\n"
     ]
    }
   ],
   "source": [
    "#PROGRAM\n",
    "class Cat:\n",
    "    def mood(self): \n",
    "       print(\"Grumpy\") \n",
    "    def sound(self): \n",
    "       print(\"Meow\") \n",
    " \n",
    "class Dog:\n",
    "    def mood(self): \n",
    "       print(\"Happy\") \n",
    "    def sound(self): \n",
    "       print(\"Woof\") \n",
    " \n",
    "hello_kitty = Cat()\n",
    "hello_puppy = Dog()\n",
    " \n",
    "for pet in (hello_kitty, hello_puppy):\n",
    "    pet.mood()\n",
    "    pet.sound()\n"
   ]
  },
  {
   "cell_type": "markdown",
   "id": "1a4305b4",
   "metadata": {},
   "source": [
    "<img src=\"https://scaler-topics-articles-md.s3.us-west-2.amazonaws.com/polymorphism-with-class-methods.webp\" width=\"500px\" height=\"300px\">"
   ]
  },
  {
   "cell_type": "markdown",
   "id": "6410a46b",
   "metadata": {},
   "source": [
    "### Polymorphism with Function and Objects\n",
    "=>Polymorphism in Python with functions and objects is a really interesting use-case. By defining a method and passing any object through it, we can implement Polymorphism with functions and objects in Python.\n"
   ]
  },
  {
   "cell_type": "code",
   "execution_count": 23,
   "id": "5fb2cfe8",
   "metadata": {},
   "outputs": [
    {
     "name": "stdout",
     "output_type": "stream",
     "text": [
      "Vegetable\n",
      "Green\n",
      "Fruit\n",
      "Yellow\n"
     ]
    }
   ],
   "source": [
    "#Program\n",
    "class Beans(): \n",
    "     def type(self): \n",
    "       print(\"Vegetable\") \n",
    "     def color(self):\n",
    "       print(\"Green\") \n",
    "class Mango(): \n",
    "     def type(self): \n",
    "       print(\"Fruit\") \n",
    "     def color(self): \n",
    "       print(\"Yellow\")      \n",
    "def func(obj): \n",
    "       obj.type() \n",
    "       obj.color()\n",
    "#creating objects\n",
    "obj_beans = Beans() \n",
    "obj_mango = Mango() \n",
    "func(obj_beans) \n",
    "func(obj_mango)\n"
   ]
  },
  {
   "cell_type": "markdown",
   "id": "11831634",
   "metadata": {},
   "source": [
    "=>In this code snippet, we have created two specific classes- Beans and Mango. Along with that, we have created a generic function that tells us the type and color of the object we pass. Mind you, since we have passed only “obj” through it, this obj can be any object. Next, we create two objects of the two above-mentioned classes."
   ]
  },
  {
   "cell_type": "markdown",
   "id": "13845b6b",
   "metadata": {},
   "source": [
    "<img src=\"https://scaler-topics-articles-md.s3.us-west-2.amazonaws.com/polymorphism-with-function-and-objects.webp\" width=\"500px\" height=\"200px\">"
   ]
  },
  {
   "cell_type": "markdown",
   "id": "4e2b27e7",
   "metadata": {},
   "source": [
    "# <font color=\"blue\">Encapsulation in python\n"
   ]
  },
  {
   "cell_type": "markdown",
   "id": "a7b3aa9e",
   "metadata": {},
   "source": [
    "## <font color=\"red\">Encapsulation"
   ]
  },
  {
   "cell_type": "markdown",
   "id": "3ad3932a",
   "metadata": {},
   "source": [
    "=>Encapsulation is one of the cornerstone concepts of OOP. The basic idea of Encapsulation is to wrap up both data and \n",
    "   methods into one single unit. The way that data and methods are organized does not matter to the end-user. \n",
    "    The user is only concerned about the right way to provide input and expects a correct output on the basis of the inputs\n",
    "    provided."
   ]
  },
  {
   "cell_type": "markdown",
   "id": "35ca1f19",
   "metadata": {},
   "source": [
    "<img src=\"https://scaler.com/topics/images/what-is-encapsulation-in-python-1024x400.webp\" width=\"500px\" height=\"500px\">"
   ]
  },
  {
   "cell_type": "markdown",
   "id": "6c296753",
   "metadata": {},
   "source": [
    "## <font color=\"red\">Access Modifiers in python Encapsulation"
   ]
  },
  {
   "cell_type": "markdown",
   "id": "5616e62d",
   "metadata": {},
   "source": [
    "=>Sometimes there might be a need to restrict or limit access to certain variables or functions while programming. \n",
    "    That is where access modifiers come into the picture.\n",
    "\n",
    "=>Now when we are talking about access, 3 kinds of access specifiers can be used while performing Encapsulation in Python. \n",
    "   They are as follows :\n",
    "\n",
    "1)Public Members\n",
    "2)Private Members\n",
    "3)Protected Members\n",
    "\n",
    "<img src=\"https://scaler.com/topics/images/access-specifiers-in-python-encapsulation-1024x590.webp\" width=\"500px\" height=\"300px\">"
   ]
  },
  {
   "cell_type": "markdown",
   "id": "04e5b1a6",
   "metadata": {},
   "source": [
    "## <font color=\"red\">Encapsulation in python using public members "
   ]
  },
  {
   "cell_type": "markdown",
   "id": "3fb16ffc",
   "metadata": {},
   "source": [
    "=>As the name suggests, the public modifier allows variables and functions to be accessible from anywhere within the class \n",
    "    and from any part of the program. All member variables have the access modifier as public by default.\n",
    "\n",
    "=>Now let’s check out how we can implement Encapsulation in Python using public methods –"
   ]
  },
  {
   "cell_type": "code",
   "execution_count": 3,
   "id": "0899b851",
   "metadata": {},
   "outputs": [
    {
     "name": "stdout",
     "output_type": "stream",
     "text": [
      "Name:  Jason\n",
      "Age:  35\n"
     ]
    }
   ],
   "source": [
    "# illustrating public members & public access modifier \n",
    "class pub_mod:\n",
    "    # constructor\n",
    "    def __init__(self, name, age):\n",
    "        self.name = name;\n",
    "        self.age = age;\n",
    " \n",
    "    def Age(self): \n",
    "        # accessing public data member \n",
    "        print(\"Age: \", self.age)\n",
    "# creating object \n",
    "obj = pub_mod(\"Jason\", 35);\n",
    "# accessing public data member \n",
    "print(\"Name: \", obj.name)  \n",
    "# calling public member function of the class \n",
    "obj.Age()"
   ]
  },
  {
   "cell_type": "markdown",
   "id": "7f1c59c8",
   "metadata": {},
   "source": [
    "## <font color=\"red\">Encpasulatiojn in python using private members"
   ]
  },
  {
   "cell_type": "markdown",
   "id": "3487150d",
   "metadata": {},
   "source": [
    "=>Evidently, from the above code, you can make out that we declared two variables and two methods of the class pub_mod. \n",
    "  We were able to access the variables and methods wherever we wanted with ease as the access modifier for them was public, \n",
    " which means they should be accessible everywhere."
   ]
  },
  {
   "cell_type": "code",
   "execution_count": 17,
   "id": "4ae7aebc",
   "metadata": {},
   "outputs": [
    {
     "name": "stdout",
     "output_type": "stream",
     "text": [
      "5\n",
      "3\n"
     ]
    },
    {
     "ename": "AttributeError",
     "evalue": "'Rectangle' object has no attribute 'length'",
     "output_type": "error",
     "traceback": [
      "\u001b[1;31m---------------------------------------------------------------------------\u001b[0m",
      "\u001b[1;31mAttributeError\u001b[0m                            Traceback (most recent call last)",
      "Cell \u001b[1;32mIn[17], line 15\u001b[0m\n\u001b[0;32m     13\u001b[0m rect \u001b[38;5;241m=\u001b[39m Rectangle() \u001b[38;5;66;03m#object created \u001b[39;00m\n\u001b[0;32m     14\u001b[0m \u001b[38;5;66;03m#printing values of the private variable outside the class \u001b[39;00m\n\u001b[1;32m---> 15\u001b[0m \u001b[38;5;28mprint\u001b[39m(\u001b[43mrect\u001b[49m\u001b[38;5;241;43m.\u001b[39;49m\u001b[43mlength\u001b[49m)\n\u001b[0;32m     16\u001b[0m \u001b[38;5;28mprint\u001b[39m(rect\u001b[38;5;241m.\u001b[39mbreadth)\n",
      "\u001b[1;31mAttributeError\u001b[0m: 'Rectangle' object has no attribute 'length'"
     ]
    }
   ],
   "source": [
    "# illustrating private members & private access modifier \n",
    "class Rectangle:\n",
    "  __length = 0 #private variable\n",
    "  __breadth = 0#private variable\n",
    "  def __init__(self): \n",
    "    #constructor\n",
    "    self.__length = 5\n",
    "    self.__breadth = 3\n",
    "    #printing values of the private variable within the class\n",
    "    print(self.__length)\n",
    "    print(self.__breadth)\n",
    " \n",
    "rect = Rectangle() #object created \n",
    "#printing values of the private variable outside the class \n",
    "print(rect.length)\n",
    "print(rect.breadth)\n"
   ]
  },
  {
   "cell_type": "markdown",
   "id": "5cc60b05",
   "metadata": {},
   "source": [
    "=>We can see that we have received an AttributeError in the output. Can you guess why?\n",
    "\n",
    "=>Well, your thoughts should wander towards the private access modifier!\n",
    "\n",
    "=>Since len is a private member and we have tried to access it outside the class, that is why we received the above error."
   ]
  },
  {
   "cell_type": "markdown",
   "id": "da28d02f",
   "metadata": {},
   "source": [
    "=>We can access private members from outside of a class using the following two approaches.\n",
    "\n",
    " ##### 1)Public method to access private members\n",
    " ##### 2)Name Mangling to access private members"
   ]
  },
  {
   "cell_type": "code",
   "execution_count": 18,
   "id": "79a9aa2f",
   "metadata": {},
   "outputs": [
    {
     "name": "stdout",
     "output_type": "stream",
     "text": [
      "Jason\n",
      "35\n",
      "Developer\n"
     ]
    }
   ],
   "source": [
    "#=>Public method to access private members\n",
    "\n",
    "# illustrating protected members & protected access modifier \n",
    "class details:\n",
    "    _name=\"Jason\"\n",
    "    _age=35\n",
    "    _job=\"Developer\"\n",
    "class pro_mod(details):\n",
    "    def __init__(self):\n",
    "        print(self._name)\n",
    "        print(self._age)\n",
    "        print(self._job)\n",
    " \n",
    "# creating object of the class \n",
    "obj = pro_mod()\n"
   ]
  },
  {
   "cell_type": "markdown",
   "id": "6877028f",
   "metadata": {},
   "source": [
    "### <font color=\"red\">Name mangling to access private members\n",
    "\n",
    " =>In name mangling process any identifier with two leading underscore and one trailing underscore is textually replaced with _classname__identifier where classname is the name of the current class. It means that any identifier of the form __geek (at least two leading underscores or at most one trailing underscore) is replaced with _classname__geek, where classname is the current class name with leading underscore(s) stripped."
   ]
  },
  {
   "cell_type": "code",
   "execution_count": 21,
   "id": "8aa528f3",
   "metadata": {},
   "outputs": [
    {
     "name": "stdout",
     "output_type": "stream",
     "text": [
      "Santhosh\n"
     ]
    },
    {
     "ename": "AttributeError",
     "evalue": "'Student' object has no attribute '__name'",
     "output_type": "error",
     "traceback": [
      "\u001b[1;31m---------------------------------------------------------------------------\u001b[0m",
      "\u001b[1;31mAttributeError\u001b[0m                            Traceback (most recent call last)",
      "Cell \u001b[1;32mIn[21], line 16\u001b[0m\n\u001b[0;32m     13\u001b[0m s1\u001b[38;5;241m.\u001b[39mdisplayName()\n\u001b[0;32m     15\u001b[0m \u001b[38;5;66;03m# Raises an error\u001b[39;00m\n\u001b[1;32m---> 16\u001b[0m \u001b[38;5;28mprint\u001b[39m(\u001b[43ms1\u001b[49m\u001b[38;5;241;43m.\u001b[39;49m\u001b[43m__name\u001b[49m)\n",
      "\u001b[1;31mAttributeError\u001b[0m: 'Student' object has no attribute '__name'"
     ]
    }
   ],
   "source": [
    "# Python program to demonstrate\n",
    "# name mangling\n",
    "  \n",
    "  \n",
    "class Student:\n",
    "    def __init__(self, name):\n",
    "        self.__name = name\n",
    "  \n",
    "    def displayName(self):\n",
    "        print(self.__name)\n",
    "  \n",
    "s1 = Student(\"Santhosh\")\n",
    "s1.displayName()\n",
    "  \n",
    "# Raises an error\n",
    "print(s1.__name)"
   ]
  },
  {
   "cell_type": "code",
   "execution_count": 19,
   "id": "fbf37767",
   "metadata": {},
   "outputs": [
    {
     "name": "stdout",
     "output_type": "stream",
     "text": [
      "Santhosh\n"
     ]
    }
   ],
   "source": [
    "# Python program to demonstrate\n",
    "# name mangling\n",
    "  \n",
    "  \n",
    "class Student:\n",
    "    def __init__(self, name):\n",
    "        self.__name = name\n",
    "  \n",
    "s1 = Student(\"Santhosh\")\n",
    "print(s1._Student__name)"
   ]
  },
  {
   "cell_type": "markdown",
   "id": "a71d2210",
   "metadata": {},
   "source": [
    "#### <font color=\"red\">Private members access\n",
    "\n",
    "=>we can access data and members of the class weither within the class or outside the class"
   ]
  },
  {
   "cell_type": "code",
   "execution_count": 22,
   "id": "1a0b3981",
   "metadata": {},
   "outputs": [
    {
     "name": "stdout",
     "output_type": "stream",
     "text": [
      "Jason\n",
      "35\n",
      "Developer\n",
      "Name: Jason\n",
      "Age: 35\n"
     ]
    }
   ],
   "source": [
    "# Program of access the private data members\n",
    "class details:\n",
    "    _name=\"Jason\"\n",
    "    _age=35\n",
    "    _job=\"Developer\"\n",
    "class pro_mod(details):\n",
    "    def __init__(self):\n",
    "        print(self._name)#We can acess inside the class or outside the class\n",
    "        print(self._age)\n",
    "        print(self._job)\n",
    " \n",
    "# creating object of the class \n",
    "obj = pro_mod()\n",
    "# direct access of protected member\n",
    "print(\"Name:\",obj._name)\n",
    "print(\"Age:\",obj._age)"
   ]
  },
  {
   "cell_type": "markdown",
   "id": "d8714595",
   "metadata": {},
   "source": [
    "###  <font color=\"red\">Conclusion"
   ]
  },
  {
   "cell_type": "markdown",
   "id": "f344961c",
   "metadata": {},
   "source": [
    "=>Encapsulation in Python refers to the practice of hiding the implementation details of an object or class, and only \n",
    "    exposing a public interface for interacting with it.\n",
    "\n",
    "=>Encapsulation is achieved through the use of access modifiers such as 'public', 'private', and 'protected'.\n",
    "\n",
    "=>Variables and methods declared with the 'private' or 'protected' access modifiers are not accessible from outside the class, while those declared as 'public' are.\n",
    "Encapsulation helps to promote code reusability, maintainability, and security by preventing external code from accessing or modifying the internal state of an object or class.\n",
    "\n",
    "=>The '_' or '__' prefix can be used to indicate a variable or method as private, however, it is not enforced by the interpreter and can still be accessed.\n",
    "\n",
    "=>:Encapsulation is a key concept in object-oriented programming and is used in many popular Python libraries and frameworks.\n",
    "\n",
    "=>In Python, encapsulation is not as strict as in other languages such as Java, as it does not have the concept of protected variables and methods."
   ]
  },
  {
   "cell_type": "markdown",
   "id": "692171dd",
   "metadata": {},
   "source": [
    "# <font color=\"blue\">Abstraction in python"
   ]
  },
  {
   "cell_type": "markdown",
   "id": "61c26590",
   "metadata": {},
   "source": [
    "=>Data Abstraction in Python can be achieved through creating abstract classes and inheriting them later. \n",
    "  Before discussing what abstract classes are, let us have a brief introduction of inheritance.\n",
    "\n",
    "=>Inheritance in OOP is a way through which one class inherits the attributes and methods of another class. The class \n",
    "  whose properties and methods are inherited is known as the Parent class. And the class that inherits the properties \n",
    "    from the parent class is the Child class/subclass."
   ]
  },
  {
   "cell_type": "code",
   "execution_count": 25,
   "id": "0975258a",
   "metadata": {},
   "outputs": [],
   "source": [
    "#syntax of inheritance in python\n",
    "#class parent_class:\n",
    "#body of parent class\n",
    "\n",
    "#class child_class( parent_class):\n",
    "#body of child class\n"
   ]
  },
  {
   "cell_type": "markdown",
   "id": "2d9fd1b7",
   "metadata": {},
   "source": [
    "## <font color=\"red\">Python Assignments"
   ]
  },
  {
   "cell_type": "markdown",
   "id": "0c89c465",
   "metadata": {},
   "source": [
    "### Q1)Write a Python program to create a class representing a Circle. Include methods to calculate its area and perimeter."
   ]
  },
  {
   "cell_type": "code",
   "execution_count": null,
   "id": "e88fc8b6",
   "metadata": {},
   "outputs": [],
   "source": []
  },
  {
   "cell_type": "code",
   "execution_count": 8,
   "id": "8b355fce",
   "metadata": {},
   "outputs": [
    {
     "name": "stdout",
     "output_type": "stream",
     "text": [
      "Hello I am a person\n",
      "I am a law kumar\n"
     ]
    }
   ],
   "source": [
    "class person():\n",
    "    def __init__(self):\n",
    "        print(\"Hello I am a person\")\n",
    "    def Law(self):\n",
    "        print(\"I am a law kumar\")\n",
    "        \n",
    "law=person()\n",
    "law.Law()"
   ]
  },
  {
   "cell_type": "code",
   "execution_count": null,
   "id": "8e044235",
   "metadata": {},
   "outputs": [],
   "source": []
  }
 ],
 "metadata": {
  "kernelspec": {
   "display_name": "Python 3 (ipykernel)",
   "language": "python",
   "name": "python3"
  },
  "language_info": {
   "codemirror_mode": {
    "name": "ipython",
    "version": 3
   },
   "file_extension": ".py",
   "mimetype": "text/x-python",
   "name": "python",
   "nbconvert_exporter": "python",
   "pygments_lexer": "ipython3",
   "version": "3.11.7"
  }
 },
 "nbformat": 4,
 "nbformat_minor": 5
}
