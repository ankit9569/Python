{
 "cells": [
  {
   "cell_type": "markdown",
   "id": "ab4d948e",
   "metadata": {},
   "source": [
    "#### Q1)Write a function to find the entered number is odd or even number\n"
   ]
  },
  {
   "cell_type": "code",
   "execution_count": null,
   "id": "78389848",
   "metadata": {},
   "outputs": [],
   "source": [
    "def odd_even():\n",
    "    num=int(input(\"enter the number:\"))\n",
    "    if(num%2==0):\n",
    "        print(num,\"is even number\")\n",
    "    else:\n",
    "        print(\"The number is odd number\")\n",
    "\n",
    "odd_even()"
   ]
  },
  {
   "cell_type": "markdown",
   "id": "6ea2caac",
   "metadata": {},
   "source": [
    "#### Q2)Write a function to print the entered number in reverse order\n"
   ]
  },
  {
   "cell_type": "code",
   "execution_count": null,
   "id": "889c6ac4",
   "metadata": {},
   "outputs": [],
   "source": [
    "def reverse():\n",
    "    num=int(input(\"enter the number:\"))\n",
    "    revers=0\n",
    "    while(num!=0):\n",
    "        digit=num%10\n",
    "        revers=revers*10+digit\n",
    "        num//=10\n",
    "    print(revers)\n",
    "    \n",
    "\n",
    "reverse()"
   ]
  },
  {
   "cell_type": "markdown",
   "id": "f9aef5c4",
   "metadata": {},
   "source": [
    "#### Q3)Write a function to check the whether rthe entered number is prime or not"
   ]
  },
  {
   "cell_type": "code",
   "execution_count": null,
   "id": "28de311d",
   "metadata": {},
   "outputs": [],
   "source": [
    "def prime(n):\n",
    "    if(n==1):\n",
    "        print(\"number is not prime nor composite\")\n",
    "    elif(n>1):\n",
    "        for i in range(2,n):\n",
    "            if(n%i==0):\n",
    "                print(\"Number is not prime number\")\n",
    "                break\n",
    "        else:\n",
    "            print(\"Number is prime number\")\n",
    "    else:\n",
    "        print(\"number is not prime number\")\n",
    "\n",
    "num=int(input(\"Enter the number:\"))\n",
    "\n",
    "prime(num)\n",
    "            "
   ]
  },
  {
   "cell_type": "markdown",
   "id": "88f8710a",
   "metadata": {},
   "source": [
    "#### Q4)write a function to calculate the factorial of the entered number"
   ]
  },
  {
   "cell_type": "code",
   "execution_count": null,
   "id": "45896b69",
   "metadata": {},
   "outputs": [],
   "source": [
    "def fact(num):\n",
    "    f=1\n",
    "    for i in range(1,num+1):\n",
    "        f=f*i\n",
    "    print(\"Factorial of\",num,\"is=\",f)\n",
    "\n",
    "n=int(input(\"Enter the number:\"))\n",
    "fact(n)"
   ]
  },
  {
   "cell_type": "markdown",
   "id": "8f1f19f4",
   "metadata": {},
   "source": [
    "#### Q5)Write the function to print the fibonacci series"
   ]
  },
  {
   "cell_type": "code",
   "execution_count": null,
   "id": "eb12be05",
   "metadata": {},
   "outputs": [],
   "source": [
    "def fibo(num):\n",
    "    a,b=0,1\n",
    "    print(a,end=\" \")\n",
    "    print(b,end=\" \")\n",
    "    for i in range(2,num):\n",
    "        c=a+b\n",
    "        print(c,end=\" \")\n",
    "        a=b\n",
    "        b=c\n",
    "n=int(input(\"enter the number:\"))\n",
    "fibo(n)"
   ]
  },
  {
   "cell_type": "markdown",
   "id": "ec624afb",
   "metadata": {},
   "source": [
    "#### Q6)Write a function to check the entered number is armstrong or not\n"
   ]
  },
  {
   "cell_type": "code",
   "execution_count": null,
   "id": "7d486e51",
   "metadata": {},
   "outputs": [],
   "source": [
    "def arms(num):\n",
    "    while(num>0):\n",
    "        temp=num\n",
    "        sum=0\n",
    "        temp=temp%10\n",
    "        sum=sum+temp**3\n",
    "        num//10\n",
    "    if(temp==sum):\n",
    "        print(num, \"is armstrong number\")\n",
    "    else:\n",
    "        print(\"Number is not armstropng number\")\n",
    "\n",
    "print(\"hello\")        \n",
    "n=int(input(\"enter the number:\"))\n",
    "arms(n)        "
   ]
  },
  {
   "cell_type": "markdown",
   "id": "986cbb42",
   "metadata": {},
   "source": [
    "#### Q7)Wrie a function to check whether the entered number is palindrone or not"
   ]
  },
  {
   "cell_type": "code",
   "execution_count": null,
   "id": "ffbd188f",
   "metadata": {},
   "outputs": [],
   "source": [
    "def pali(n):\n",
    "    temp=n\n",
    "    rev=0\n",
    "    while(n>0):\n",
    "        dig=n%10\n",
    "        rev=rev*10+dig\n",
    "        n=n//10\n",
    "    if(temp==rev):\n",
    "        print(\"The number is pallindrome number\")\n",
    "    else:\n",
    "        print(\"The number is not palindrone number\")\n",
    "        \n",
    "num=int(input(\"Enter the number:\"))\n",
    "pali(num)"
   ]
  },
  {
   "cell_type": "markdown",
   "id": "d1dd3bc0",
   "metadata": {},
   "source": [
    "#### Q8)Write a function that takes the two number and check whether the entered number is positive or negative number"
   ]
  },
  {
   "cell_type": "code",
   "execution_count": null,
   "id": "46816ef9",
   "metadata": {},
   "outputs": [],
   "source": [
    "def pos_neg(a):\n",
    "    if(a>0):\n",
    "        print(\"Number is positive number\")\n",
    "    else:\n",
    "        print(\"Number is negative number\")\n",
    "\n",
    "num=int(input(\"Enter the number:-\"))\n",
    "pos_neg(num)"
   ]
  },
  {
   "cell_type": "markdown",
   "id": "ba69556f",
   "metadata": {},
   "source": [
    "#### Q9)Write a function that takes two number from the keyboard and return greartest among them"
   ]
  },
  {
   "cell_type": "code",
   "execution_count": 11,
   "id": "83e9e3d7",
   "metadata": {},
   "outputs": [
    {
     "name": "stdout",
     "output_type": "stream",
     "text": [
      "Enter the number1:123\n",
      "enter the numebr2:45553\n",
      "45553 is greater\n"
     ]
    }
   ],
   "source": [
    "def greater(a,b):\n",
    "    if(a>b):\n",
    "        return a\n",
    "    else:\n",
    "        return b\n",
    "\n",
    "n1=int(input(\"Enter the number1:\"))\n",
    "n2=int(input(\"enter the numebr2:\"))\n",
    "\n",
    "print(greater(n1,n2),\"is greater\")"
   ]
  },
  {
   "cell_type": "markdown",
   "id": "1b8bc9bc",
   "metadata": {},
   "source": [
    "#### Q10)Write a function that takes number entered through the keyboard and return the sum of digits"
   ]
  },
  {
   "cell_type": "code",
   "execution_count": 15,
   "id": "6b23e8cd",
   "metadata": {},
   "outputs": [
    {
     "name": "stdout",
     "output_type": "stream",
     "text": [
      "Enter the number:122323344\n",
      "sum= 24\n"
     ]
    }
   ],
   "source": [
    "num=int(input(\"Enter the number:\"))\n",
    "sum=0\n",
    "for digit in str(num):\n",
    "    sum=sum+int(digit)  \n",
    "print(\"sum=\",sum)"
   ]
  },
  {
   "cell_type": "markdown",
   "id": "e1ae1169",
   "metadata": {},
   "source": [
    "###### Q11)Write a function that takes two number from the keyboard and return the value of ab"
   ]
  },
  {
   "cell_type": "code",
   "execution_count": 16,
   "id": "a25bcbbe",
   "metadata": {},
   "outputs": [
    {
     "name": "stdout",
     "output_type": "stream",
     "text": [
      "enter the value of n1123456677755\n",
      "enter the value of n25656\n",
      "product= 698270969382280\n"
     ]
    }
   ],
   "source": [
    "def pro(a,b):\n",
    "    return a*b\n",
    "n1=int(input(\"enter the value of n1\"))\n",
    "n2=int(input(\"enter the value of n2\"))\n",
    "print(\"product=\",pro(n1,n2))"
   ]
  },
  {
   "cell_type": "code",
   "execution_count": 2,
   "id": "8b4cbbeb",
   "metadata": {},
   "outputs": [
    {
     "name": "stdout",
     "output_type": "stream",
     "text": [
      "this is comment\n"
     ]
    }
   ],
   "source": [
    "def abc():\n",
    "    #print(\"hello\")\n",
    "     print(\"this is comment\")\n",
    "        \n",
    "abc()"
   ]
  },
  {
   "cell_type": "code",
   "execution_count": null,
   "id": "1bef26a4",
   "metadata": {},
   "outputs": [],
   "source": []
  }
 ],
 "metadata": {
  "kernelspec": {
   "display_name": "Python 3 (ipykernel)",
   "language": "python",
   "name": "python3"
  },
  "language_info": {
   "codemirror_mode": {
    "name": "ipython",
    "version": 3
   },
   "file_extension": ".py",
   "mimetype": "text/x-python",
   "name": "python",
   "nbconvert_exporter": "python",
   "pygments_lexer": "ipython3",
   "version": "3.11.5"
  }
 },
 "nbformat": 4,
 "nbformat_minor": 5
}
