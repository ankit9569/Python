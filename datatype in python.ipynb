{
 "cells": [
  {
   "cell_type": "markdown",
   "id": "3626b68f",
   "metadata": {},
   "source": [
    "# STRINGS IN PYTHON "
   ]
  },
  {
   "cell_type": "markdown",
   "id": "d99ed87c",
   "metadata": {},
   "source": [
    "<font color=\"red\">=>Strings in python are immutable.we can a text in single as well as double quotes.\n",
    "\n",
    "<font color=\"red\">=>Python treat both single and double quotes statements same.\n",
    "\n",
    "<font color=\"red\">=>In python,Strings are stored individual charcters with.</font>"
   ]
  },
  {
   "cell_type": "markdown",
   "id": "da3ee934",
   "metadata": {},
   "source": [
    "### Slicing and Indexing in python"
   ]
  },
  {
   "cell_type": "markdown",
   "id": "d8f1e042",
   "metadata": {},
   "source": [
    "#### Indexing"
   ]
  },
  {
   "cell_type": "markdown",
   "id": "9c890c10",
   "metadata": {},
   "source": [
    "<font color=\"red\">=>Using indexing we can use only single character at time.\n",
    "\n",
    "<font color=\"red\">=>In Python indexing are of two types:-\n",
    "\n",
    "<font color=\"red\">=>1.Forward indexing[starts with 0] \n",
    "\n",
    "<font color=\"red\">=>2.backward indexing[start by default -1]\n"
   ]
  },
  {
   "cell_type": "markdown",
   "id": "a9a5dbc1",
   "metadata": {},
   "source": [
    "#### SLICING"
   ]
  },
  {
   "cell_type": "markdown",
   "id": "c16be277",
   "metadata": {},
   "source": [
    "<font color=\"red\">=>Using Slicing we can access more than one character at a time.\n",
    "\n",
    "<font color=\"red\">=>syntax:-[start:end:step]"
   ]
  },
  {
   "cell_type": "code",
   "execution_count": 1,
   "id": "c50e8a40",
   "metadata": {},
   "outputs": [
    {
     "name": "stdout",
     "output_type": "stream",
     "text": [
      "w e l c o m e\n",
      "e m o c l e w\n"
     ]
    }
   ],
   "source": [
    "# PROGRAM OF INDEXING\n",
    "var1=\"welcome\"\n",
    "print(var1[0],var1[1],var1[2],var1[3],var1[4],var1[5],var1[6])\n",
    "print(var1[-1],var1[-2],var1[-3],var1[-4],var1[-5],var1[-6],var1[-7])\n"
   ]
  },
  {
   "cell_type": "markdown",
   "id": "47a22f16",
   "metadata": {},
   "source": [
    "### TYPICAL QUESTIONS ON STRING SLICING"
   ]
  },
  {
   "cell_type": "code",
   "execution_count": 2,
   "id": "fecd1916",
   "metadata": {},
   "outputs": [
    {
     "name": "stdout",
     "output_type": "stream",
     "text": [
      "welcom\n"
     ]
    }
   ],
   "source": [
    "var1=\"welcome\"\n",
    "print(var1[-7:-1])\n"
   ]
  },
  {
   "cell_type": "code",
   "execution_count": 3,
   "id": "06e49ee7",
   "metadata": {},
   "outputs": [
    {
     "name": "stdout",
     "output_type": "stream",
     "text": [
      "welcome\n"
     ]
    }
   ],
   "source": [
    "print(var1[-7:7]) # blank nhi chorna hai pura \"welcome print karna hai\""
   ]
  },
  {
   "cell_type": "code",
   "execution_count": null,
   "id": "c274bd2b",
   "metadata": {},
   "outputs": [],
   "source": [
    "print(var1[-1:-8]) # it returns blank space"
   ]
  },
  {
   "cell_type": "code",
   "execution_count": 4,
   "id": "fff77adb",
   "metadata": {},
   "outputs": [
    {
     "name": "stdout",
     "output_type": "stream",
     "text": [
      "emoclew\n"
     ]
    }
   ],
   "source": [
    "print(var1[-1:-8:-1]) #return karega ulta"
   ]
  },
  {
   "cell_type": "code",
   "execution_count": 5,
   "id": "c9715391",
   "metadata": {},
   "outputs": [
    {
     "name": "stdout",
     "output_type": "stream",
     "text": [
      "emoclew\n"
     ]
    }
   ],
   "source": [
    "print(var1[::-1])   # if start and end value not given then it depends on step value"
   ]
  },
  {
   "cell_type": "code",
   "execution_count": 6,
   "id": "6fb1185e",
   "metadata": {},
   "outputs": [
    {
     "name": "stdout",
     "output_type": "stream",
     "text": [
      "eolw\n"
     ]
    }
   ],
   "source": [
    "print(var1[::-2])"
   ]
  },
  {
   "cell_type": "code",
   "execution_count": null,
   "id": "12058176",
   "metadata": {},
   "outputs": [],
   "source": [
    "print(var1[2:7:-1])  #blank space ayga "
   ]
  },
  {
   "cell_type": "code",
   "execution_count": null,
   "id": "45b888f9",
   "metadata": {},
   "outputs": [],
   "source": [
    "print(var1[0:7:0]) # value error ayga because slice step cannot be zero"
   ]
  },
  {
   "cell_type": "code",
   "execution_count": null,
   "id": "d13d3fc3",
   "metadata": {},
   "outputs": [],
   "source": [
    "print(var1[2:3])"
   ]
  },
  {
   "cell_type": "markdown",
   "id": "4fb4629d",
   "metadata": {},
   "source": [
    "### CONCATENATE OPERATOR"
   ]
  },
  {
   "cell_type": "code",
   "execution_count": null,
   "id": "0d672c1a",
   "metadata": {},
   "outputs": [],
   "source": [
    "'''\n",
    "\n",
    "+\n",
    "\n",
    "It is used to combine more than two strings\n",
    "'''\n",
    "\n",
    "str1=\"Ducat \"\n",
    "str2=\"India\"\n",
    "print(str1+str2)"
   ]
  },
  {
   "cell_type": "code",
   "execution_count": null,
   "id": "a3c3eb60",
   "metadata": {},
   "outputs": [],
   "source": [
    "print(\"Hello \" +\"World\")"
   ]
  },
  {
   "cell_type": "markdown",
   "id": "d9c9f246",
   "metadata": {},
   "source": [
    "### Replicate operator"
   ]
  },
  {
   "cell_type": "code",
   "execution_count": 7,
   "id": "e2ba4f7e",
   "metadata": {},
   "outputs": [
    {
     "name": "stdout",
     "output_type": "stream",
     "text": [
      "DUCAT DUCAT DUCAT \n",
      "\n",
      "DUCAT DUCAT DUCAT \n",
      "INDIA INDIA INDIA INDIA \n"
     ]
    }
   ],
   "source": [
    "'''\n",
    "*\n",
    "it repeats the number of times repeats string\n",
    "\n",
    "pahle bhio laga skte hai and baad me bhi\n",
    "'''\n",
    "str1=\"DUCAT \"\n",
    "str2=\"INDIA \"\n",
    "print(str1*3)\n",
    "print()\n",
    "print(3*str1)\n",
    "print(4*str2)"
   ]
  },
  {
   "cell_type": "code",
   "execution_count": null,
   "id": "3f39cb51",
   "metadata": {},
   "outputs": [],
   "source": [
    "print(\"-\"*40)\n",
    "print(\"      BANK MANAGEMENT SYSTEM       \")\n",
    "print(\"-\"*40)"
   ]
  },
  {
   "cell_type": "markdown",
   "id": "70b9cf72",
   "metadata": {},
   "source": [
    "## FUNCTIONS AND METHODS IN PYTHON\n"
   ]
  },
  {
   "cell_type": "code",
   "execution_count": 8,
   "id": "af65bcf1",
   "metadata": {},
   "outputs": [
    {
     "name": "stdout",
     "output_type": "stream",
     "text": [
      "Welcome to ducat\n"
     ]
    }
   ],
   "source": [
    "#.capitalize():-Converts the first characte to upper case\n",
    "str1=\"welcome to ducat\"\n",
    "print(str1.capitalize())\n"
   ]
  },
  {
   "cell_type": "code",
   "execution_count": null,
   "id": "468c292a",
   "metadata": {},
   "outputs": [],
   "source": [
    "# .count(string,begin,end) # total count karega o kitne baar aya hai\n",
    "str1=\"welcome to python programeng\"\n",
    "print(str1.count('o')) # O index start hoga\n",
    "print(str1.count('o',5)) # 5 index se start hoga\n",
    "print(str1.count('o',5,10)) # 5 se 10 tk index lega\n",
    "\n",
    "print(str1.count(\"me\"))\n",
    "print(str1.count(\" \"))\n",
    "print()\n",
    "'''\n",
    "more than one line string me dalna hai to triple quotes ka\n",
    "use karenge\n",
    "'''\n",
    "var1=''' python is a high level language.python\n",
    "is a dynamic type language.python is a multipurposer programming language\n",
    "'''\n",
    "print(var1.count('python'))"
   ]
  },
  {
   "cell_type": "code",
   "execution_count": null,
   "id": "ea4ad910",
   "metadata": {},
   "outputs": [],
   "source": [
    "#.endswith(string,start,end)\n",
    "str1=\"welcome to ducat\"\n",
    "print(str1.endswith(\"ducat\"))\n",
    "print()\n",
    "print(str1.endswith(\"come\",3,7))"
   ]
  },
  {
   "cell_type": "code",
   "execution_count": null,
   "id": "6fbb6193",
   "metadata": {},
   "outputs": [],
   "source": [
    "#.startswith()\n",
    "str1=\"welcome to ducat\"\n",
    "print(str1.startswith(\"ducat\"))\n",
    "print()\n",
    "print(str1.startswith(\"come\",3,7))"
   ]
  },
  {
   "cell_type": "code",
   "execution_count": null,
   "id": "5f3219c8",
   "metadata": {},
   "outputs": [],
   "source": [
    "#.find(string,begin,end):-JO bhi substring denge substring ke pahle bale letter ka index batayga\n",
    "str1=\"welcome to ducat\"\n",
    "print(str1.find(\"come\"))\n",
    "print(str1.find(\"come\",3))\n",
    "print(str1.find(\"come\",30)) #it will always return negative value if index provided is not same[syntax error real]\n"
   ]
  },
  {
   "cell_type": "code",
   "execution_count": null,
   "id": "09965e53",
   "metadata": {},
   "outputs": [],
   "source": [
    "#.index(string,begin,end) \n",
    "str1=\"welcome to ducat\"\n",
    "print(str1.index(\"come\"))\n",
    "print(str1.index(\"come\",3))\n",
    "print(str1.index(\"come\",30)) #it will always return syntax error real[diffeerence yhi hai find and index me]"
   ]
  },
  {
   "cell_type": "code",
   "execution_count": null,
   "id": "09fd48f2",
   "metadata": {},
   "outputs": [],
   "source": [
    "#isalnum():-It returns True and False alphanumeric is present in chacracter.[space and allowed not nhi hai]\n",
    "str1=\"Welcome to python 3.14\"\n",
    "str2=\"python314\"\n",
    "str3=\"pythoghgjjj\"\n",
    "# sapce and alnum \n",
    "print(str1.isalnum())\n",
    "print()\n",
    "print(str2.isalnum())\n",
    "print()\n",
    "print(str3.isalnum())\n",
    "print()"
   ]
  },
  {
   "cell_type": "code",
   "execution_count": null,
   "id": "225042b4",
   "metadata": {},
   "outputs": [],
   "source": [
    "#isalpha():-It returns true and false if only alphabet present in string\n",
    "str1=\"Welcome to python 3.14\"\n",
    "str2=\"python314\"\n",
    "str3=\"pythoghgjjj\"\n",
    "print(str1.isalpha())\n",
    "print()\n",
    "print(str2.isalpha())\n",
    "print()\n",
    "print(str3.isalpha())\n",
    "print()"
   ]
  },
  {
   "cell_type": "code",
   "execution_count": null,
   "id": "4688a92d",
   "metadata": {},
   "outputs": [],
   "source": [
    "#isdigit():-It returns true and false if only digit is present\n",
    "str1=\"123456578\"\n",
    "str2=\"33444 314\"\n",
    "str3=\"pythoghgjjj123\"\n",
    "print(str1.isdigit())\n",
    "print()\n",
    "print(str2.isdigit())\n",
    "print()\n",
    "print(str3.isdigit())\n",
    "print()"
   ]
  },
  {
   "cell_type": "code",
   "execution_count": null,
   "id": "5519ddcf",
   "metadata": {},
   "outputs": [],
   "source": [
    "#.islower():-It will return true and false if string is in lower case[space,special symbol,digit allowed hai]\n",
    "str1=\"welcome to ducat\"\n",
    "str2=\"python programming 4 is a high level language\"\n",
    "print(str1.islower())\n",
    "print()\n",
    "print(str2.islower())"
   ]
  },
  {
   "cell_type": "code",
   "execution_count": null,
   "id": "ad306be1",
   "metadata": {},
   "outputs": [],
   "source": [
    "#.isupper():-It will return true and false if string is in upper case[space,special symbol,digit allowed hai]\n",
    "str1=\"WELCOME TO DUCAT\"\n",
    "str2=\"python programming 4 is a high level language\"\n",
    "print(str1.isupper())\n",
    "print()\n",
    "print(str2.isupper())"
   ]
  },
  {
   "cell_type": "code",
   "execution_count": null,
   "id": "a39d4443",
   "metadata": {},
   "outputs": [],
   "source": [
    "#isspace():-It will return true and false if space is present in the strings [\"blank space khali rahna chaiye\"]\n",
    "str1=\"WELCOME TO DUCAT\"\n",
    "str2=\"                         \"\n",
    "print(str1.isspace())\n",
    "print(str2.isspace())"
   ]
  },
  {
   "cell_type": "code",
   "execution_count": null,
   "id": "e710a80f",
   "metadata": {},
   "outputs": [],
   "source": [
    "#lower():-It will convert the all the upper case into lower case alphabet.\n",
    "str1=\"WELCOME TO DUCAT\"\n",
    "str2=\"PYTHONISHIGHLANGUAGE THE AMOUNT OF HEAT ENERGY\"\n",
    "print(str1.lower())\n",
    "print(str2.lower())"
   ]
  },
  {
   "cell_type": "code",
   "execution_count": null,
   "id": "f30344bd",
   "metadata": {},
   "outputs": [],
   "source": [
    "#upper():-It will convert the all the lower case alphabet into upper case alphabet [blank space khali rahna chaiye]\n",
    "str1=\"welcome to ducat\"\n",
    "str2=\"python is a high level language\"\n",
    "print(str1.upper())\n",
    "print(str2.upper())"
   ]
  },
  {
   "cell_type": "code",
   "execution_count": null,
   "id": "1f8bfaa8",
   "metadata": {},
   "outputs": [],
   "source": [
    "#swapcase():-It will convert all the lower case into aplphabet upper case alphabet in the same string or different string\n",
    "str1=\"WelcOme to DuCat\"\n",
    "str2=\"python is a High level Language\"\n",
    "print(str1.swapcase())\n",
    "print(str2.swapcase())"
   ]
  },
  {
   "cell_type": "code",
   "execution_count": null,
   "id": "280f4598",
   "metadata": {},
   "outputs": [],
   "source": [
    "#repace():-It will replace the contents and it fit into new contents\n",
    "str1=''' Python is a high level language.\n",
    "Python is a multi purpose programming language.\n",
    "Python is a interpreted based language.\n",
    "Python is invented by Guido Van roussam.\n",
    "'''\n",
    "print(str1.replace(\"Python\",\"R-Language\"))\n",
    "print()\n",
    "'''Python$ is a high level language.\n",
    "   Python$ is a multi purpose programming language.\n",
    "   Python$ is a interpreted based language.\n",
    "   Python$ is invented by Guido Van roussam.\n",
    "'''\n",
    "print(str1.replace(\"Python$ \",\"\"))\n",
    "\n"
   ]
  },
  {
   "cell_type": "code",
   "execution_count": null,
   "id": "25b950fd",
   "metadata": {},
   "outputs": [],
   "source": [
    "#join():-It will join two or more strings with no space is provided.\n",
    "str1=\"Hello\"\n",
    "str2=\"Ducat\"\n",
    "print(\" \".join([str1,str2]))\n",
    "print(\"-\".join([str1,str2]))"
   ]
  },
  {
   "cell_type": "code",
   "execution_count": null,
   "id": "edcfae83",
   "metadata": {},
   "outputs": [],
   "source": [
    "#.split():-It will break thestring and convert them into string as a  list[we can also pass a parameter into split()]\n",
    "str1=\"Python is a high level language\"\n",
    "print(str1.split())\n",
    "print()\n",
    "print(str1.split(\"g\"))"
   ]
  },
  {
   "cell_type": "code",
   "execution_count": null,
   "id": "7cbfaed1",
   "metadata": {},
   "outputs": [],
   "source": [
    "#len():-This function is used to find the length of string[length meblank space bhi count karega]\n",
    "str1=\"Python is a high level language\"\n",
    "print(len(str1))\n"
   ]
  },
  {
   "cell_type": "code",
   "execution_count": null,
   "id": "26533bd2",
   "metadata": {},
   "outputs": [],
   "source": [
    "#.lstrip():-It will remove the contents from left side[space and value can be remove from left hand side]\n",
    "str1=\"            WELCOME TO DUCAT         \"\n",
    "str2=\"@@@@@@@@@@@Hello world!!!!!!!!!!!!!!!!!!\"\n",
    "print(str1.lstrip())\n",
    "print(str2.lstrip('@'))\n"
   ]
  },
  {
   "cell_type": "code",
   "execution_count": 1,
   "id": "9727a415",
   "metadata": {},
   "outputs": [
    {
     "name": "stdout",
     "output_type": "stream",
     "text": [
      "            WELCOME TO DUCAT\n",
      "@@@@@@@@@@@Hello world\n"
     ]
    }
   ],
   "source": [
    "#.rstrip():-It will remove the contents and space from right hand side(space and value can be removed from right hand)\n",
    "str1=\"            WELCOME TO DUCAT         \"\n",
    "str2=\"@@@@@@@@@@@Hello world!!!!!!!!!!!!!!!!!!\"\n",
    "print(str1.rstrip())\n",
    "print(str2.rstrip('!'))"
   ]
  },
  {
   "cell_type": "code",
   "execution_count": 3,
   "id": "3631784e",
   "metadata": {},
   "outputs": [
    {
     "name": "stdout",
     "output_type": "stream",
     "text": [
      "WELCOME TO DUCAT\n",
      "Hello world\n"
     ]
    }
   ],
   "source": [
    "#strip():-It will remove the contents and space from both hand side[but contents remains same]\n",
    "str1=\"            WELCOME TO DUCAT                 \"\n",
    "str2=\"@@@@@@@Hello world@@@@@@@\"\n",
    "print(str1.strip())\n",
    "print(str2.strip('@'))"
   ]
  },
  {
   "cell_type": "markdown",
   "id": "400ad6d2",
   "metadata": {},
   "source": [
    "# LIST IN PYTHON "
   ]
  },
  {
   "cell_type": "markdown",
   "id": "16200cb9",
   "metadata": {},
   "source": [
    "<font color=\"red\">=>Python list are the data type structures that is capable of holding similar and different data type of data.\n",
    "\n",
    "<font color=\"red\">=>Python list are mutable that means we can change the data item in the list\n",
    "\n",
    "<font color=\"red\">=>A list can be composed by storing a sequence of different type of values separated by commas.\n",
    "\n",
    "<font color=\"red\">=>List is enclosed with in square bracket[list]\n",
    "\n",
    "<font color=\"red\">=>The elements in the list are stored in the index basis with starting index 0 and -1</font>\n",
    "\n",
    "\n"
   ]
  },
  {
   "cell_type": "markdown",
   "id": "6ea3c0d2",
   "metadata": {},
   "source": [
    "### Accessing list"
   ]
  },
  {
   "cell_type": "code",
   "execution_count": null,
   "id": "b1222e9a",
   "metadata": {},
   "outputs": [],
   "source": [
    "data1=[1,2,3,4]\n",
    "data2=['x','y','z']\n",
    "data3=[2.5,8.9,7]\n",
    "data4=[\"aman\",\"deepak\",\"anmol\"]\n",
    "data5=[\"pankaj\",10,10.5,'a']\n",
    "print(data1[0])\n",
    "print(data4[::])\n",
    "print(data3[0:7])"
   ]
  },
  {
   "cell_type": "markdown",
   "id": "724658b9",
   "metadata": {},
   "source": [
    "### list concatenate Operator"
   ]
  },
  {
   "cell_type": "code",
   "execution_count": null,
   "id": "d8d50ab3",
   "metadata": {},
   "outputs": [],
   "source": [
    "list1=[10,20,30,40, 50,60]\n",
    "list2=[30,40,50]\n",
    "list3=list1+list2 # means this opeartor is used to combine the more than one list\n",
    "print(list3)"
   ]
  },
  {
   "cell_type": "markdown",
   "id": "cb7968d1",
   "metadata": {},
   "source": [
    "### list replicate operator (*)"
   ]
  },
  {
   "cell_type": "code",
   "execution_count": null,
   "id": "d6ecffc2",
   "metadata": {},
   "outputs": [],
   "source": [
    "# this operator is used to repeat the list at  given number of times\n",
    "list1=[10,20,30,40, 50,60] \n",
    "list2=[30,40,50,60,65,89]\n",
    "print(list1*4) #It add the 4 times in list 1\n",
    "print(3*list2) #It add the 4 times in list 2"
   ]
  },
  {
   "cell_type": "markdown",
   "id": "58e52327",
   "metadata": {},
   "source": [
    "### Updating of list elements"
   ]
  },
  {
   "cell_type": "code",
   "execution_count": null,
   "id": "db9cb2fe",
   "metadata": {},
   "outputs": [],
   "source": [
    "# We can also upadte the list elements means we can replace with the new elements\n",
    "data=[10,20,30,40,50,60]\n",
    "print(data)\n",
    "data[2]=\"repaced item\" # 2nd index pr replace karega\n",
    "print(data)\n",
    "data[5]=50.78\n",
    "print(data)"
   ]
  },
  {
   "cell_type": "markdown",
   "id": "13d85bc5",
   "metadata": {},
   "source": [
    "### deleting of list elements"
   ]
  },
  {
   "cell_type": "code",
   "execution_count": null,
   "id": "bb662b29",
   "metadata": {},
   "outputs": [],
   "source": [
    "# To delete the item from the list we have to use \"DEL KEYWORD\"\n",
    "# it is used to delete only one item or more than one items from the list\n",
    "data=[10,20,30,40,50,60]\n",
    "del data[0]\n",
    "print(data)\n",
    "del data[2:4] # index starts again after deleting the single item in the list\n",
    "print(data)\n",
    "del data\n",
    "print(data) # it will give an error because list is to be deleted"
   ]
  },
  {
   "cell_type": "markdown",
   "id": "c07bfc4a",
   "metadata": {},
   "source": [
    "### Clear method in list"
   ]
  },
  {
   "cell_type": "code",
   "execution_count": null,
   "id": "12785bbf",
   "metadata": {},
   "outputs": [],
   "source": [
    "# This method is used to just clear the list elements but entire list cannot be deleted \n",
    "data=[10,20,30,40,50,60]\n",
    "data.clear() \n",
    "print(data)"
   ]
  },
  {
   "cell_type": "markdown",
   "id": "dc63ab38",
   "metadata": {},
   "source": [
    "### Appending of list elements"
   ]
  },
  {
   "cell_type": "code",
   "execution_count": null,
   "id": "1c896365",
   "metadata": {},
   "outputs": [],
   "source": [
    "#After clearing  the list elements we need to insert the new elements with the list by using .append() method.\n",
    "# It will the add the items in the list index of the list\n",
    "data=[10,20,30,40,50,60]\n",
    "data.append(70)\n",
    "print(data)\n",
    "print()\n",
    "data.clear()\n",
    "print(data)\n",
    "data.append(30)\n",
    "print(data)\n",
    "data.append(\"Sohan\")\n",
    "print(data)\n",
    "data.append(\"Mohan\")\n",
    "data.append(True)\n",
    "data.append(90.78)\n",
    "print(data)"
   ]
  },
  {
   "cell_type": "markdown",
   "id": "c80ab8f4",
   "metadata": {},
   "source": [
    "### List handling Function"
   ]
  },
  {
   "cell_type": "code",
   "execution_count": null,
   "id": "3d14ef3b",
   "metadata": {},
   "outputs": [],
   "source": [
    "# min():-This function is used to return minimum value in the list\n",
    "data=[23.66,45,89.56,56,67.89,78]\n",
    "print(min(data))"
   ]
  },
  {
   "cell_type": "code",
   "execution_count": null,
   "id": "69945886",
   "metadata": {},
   "outputs": [],
   "source": [
    "#max():-This function is used to return maximum value in the list\n",
    "data=[23.66,45,89.56,56,67.89,78]\n",
    "data1=[\"ankit\",\"deepak\",\"elvish\",\"anmol\"]\n",
    "print(max(data))\n",
    "print()\n",
    "print(max(data1))"
   ]
  },
  {
   "cell_type": "code",
   "execution_count": null,
   "id": "2f4b0842",
   "metadata": {},
   "outputs": [],
   "source": [
    "#len():-This function is used to count the number of total elements present in that list.\n",
    "data=[23.66,45,89.56,56,67.89,78]\n",
    "data1=[\"ankit\",\"deepak\",\"elvish\",\"anmol\"]\n",
    "print(len(data))\n",
    "print()\n",
    "print()\n",
    "print(len(data1))"
   ]
  },
  {
   "cell_type": "code",
   "execution_count": null,
   "id": "680b0dcf",
   "metadata": {},
   "outputs": [],
   "source": [
    "#.index(object):-This function is used to return the index of that particular elements\n",
    "data=[10,20,30,40,50,60,45.89,\"ankit\",10,20]\n",
    "print(data.index(\"ankit\"))\n",
    "print()\n",
    "print(data.index(10))"
   ]
  },
  {
   "cell_type": "code",
   "execution_count": null,
   "id": "13421095",
   "metadata": {},
   "outputs": [],
   "source": [
    "#.count(object):-This function is used to count the number of particular elements present in a particular list\n",
    "data=[10,20,30,40,10,20,30,50,85,50,89,56,50,\"34\"]\n",
    "count=data.count(\"34\")\n",
    "print(count)\n",
    "print(data.count(20))\n",
    "print(data.count(50))"
   ]
  },
  {
   "cell_type": "code",
   "execution_count": null,
   "id": "20209a29",
   "metadata": {},
   "outputs": [],
   "source": [
    "# .pop():-This method is used to remove the elements at the specified index by default it reemove the elements from the last\n",
    "data=[10,20,20,30,30,40,20,30]\n",
    "print(data)\n",
    "data.pop(2)\n",
    "print(data)"
   ]
  },
  {
   "cell_type": "code",
   "execution_count": null,
   "id": "a47475fc",
   "metadata": {},
   "outputs": [],
   "source": [
    "# .insert():-This function is used to insert the elements at the specified index(position)\n",
    "data=[10,20,40,50,60,80,70]\n",
    "print(data)\n",
    "data.insert(2,100)\n",
    "print(data)\n",
    "print()\n"
   ]
  },
  {
   "cell_type": "code",
   "execution_count": null,
   "id": "0b96e77e",
   "metadata": {},
   "outputs": [],
   "source": [
    "# .extend():-This function is used to add the elments at the end of current list elements\n",
    "data1=[10,20,30,20.8,70.8]\n",
    "data2=[\"a\",\"b\",\"c\",\"d\"]\n",
    "data1.extend(data2)\n",
    "print(data1)\n",
    "print()\n",
    "data2.extend(data1)\n",
    "print(data2)"
   ]
  },
  {
   "cell_type": "markdown",
   "id": "482409fd",
   "metadata": {},
   "source": [
    "DIFFERNCE BETWEEN DEL AND REMOVE KEYBOARD\n"
   ]
  },
  {
   "cell_type": "code",
   "execution_count": null,
   "id": "a873bde7",
   "metadata": {},
   "outputs": [],
   "source": [
    "'''\n",
    "del is a keyword in python and is used to remove an element or multiple elements or entire whole list\n",
    "        while remove delete only one element at a time\n",
    "\n",
    "del works on index. \n",
    "             while remove works on value\n",
    "\n",
    "del deletes an element at the specified index number \n",
    "                    while remove removes the first matching value from the list\n",
    "\n",
    "'''"
   ]
  },
  {
   "cell_type": "code",
   "execution_count": null,
   "id": "1caa5bb1",
   "metadata": {},
   "outputs": [],
   "source": [
    "# del keyword:-it works on index number\n",
    "data=[10,20,30,40,50]\n",
    "del data[2] # it removes value at index 2\n",
    "print(data)\n",
    "del data[0:3]\n",
    "print(data)\n",
    "del data\n",
    "#print(data) #produce error because data is not defined"
   ]
  },
  {
   "cell_type": "code",
   "execution_count": null,
   "id": "7dc1e843",
   "metadata": {},
   "outputs": [],
   "source": [
    "# .remove():-it works on a value\n",
    "data=[10,20,30,40,50]\n",
    "data.remove(20)\n",
    "print(data)"
   ]
  },
  {
   "cell_type": "code",
   "execution_count": null,
   "id": "87d5b5c9",
   "metadata": {},
   "outputs": [],
   "source": [
    "#reverse():-this function is used to change the elements of the list in reverse order\n",
    "data=[10,20,30,40,50]\n",
    "data.reverse()\n",
    "print(data)"
   ]
  },
  {
   "cell_type": "code",
   "execution_count": null,
   "id": "7fdca2bf",
   "metadata": {},
   "outputs": [],
   "source": [
    "# .sort():-This methods is used to arrange the elements of the list in ascending or descending order\n",
    "data=[7,6,5,63,4,9,8,89,56.78,89.90]\n",
    "data.sort()\n",
    "print(data)\n",
    "print()\n",
    "data.sort(reverse=True) # for descending\n",
    "print(data)"
   ]
  },
  {
   "cell_type": "markdown",
   "id": "3307d94c",
   "metadata": {},
   "source": [
    "#### NESTED LIST IN PYTHON"
   ]
  },
  {
   "cell_type": "markdown",
   "id": "174f8ace",
   "metadata": {},
   "source": [
    "<font color=\"red\">nested list is a list of lists,or any list that has another list as an element "
   ]
  },
  {
   "cell_type": "code",
   "execution_count": null,
   "id": "f8e6b425",
   "metadata": {},
   "outputs": [],
   "source": [
    "record=[\"welcome\",[\"aman\",\"deepak\",\"pankaj\",\"raj\"],[23,48,89]]\n",
    "print(record)\n",
    "print(record[0][0:])\n",
    "print(record[1][0])"
   ]
  },
  {
   "cell_type": "markdown",
   "id": "bcfad40c",
   "metadata": {},
   "source": [
    "# TUPLE IN PYTHON"
   ]
  },
  {
   "cell_type": "markdown",
   "id": "6eb7b63b",
   "metadata": {},
   "source": [
    "<font color=\"red\">=>Tuple are used to store multiple items in a single variable \n",
    "\n",
    "<font color=\"red\">=>Tuple is a built in data type that is used to store collection of data items\n",
    "\n",
    "<font color=\"red\">=>Tuple is immutable data type means we cannot change the tuple elemnts.\n",
    "\n",
    "<font color=\"red\">=>Tuple is ordered so indexing is allowed in tuple\n",
    "\n",
    "<font color=\"red\">=>tuple are written in round brackets()\n"
   ]
  },
  {
   "cell_type": "code",
   "execution_count": null,
   "id": "dace91bc",
   "metadata": {},
   "outputs": [],
   "source": [
    "a=[10,20,30,40,50]\n",
    "print(type(a))\n",
    "a=(10,20,30,40,50)\n",
    "print(type(a))\n",
    "c=10,20,30,40,50\n",
    "print(type(c))"
   ]
  },
  {
   "cell_type": "markdown",
   "id": "da836fe3",
   "metadata": {},
   "source": [
    "<font color=\"red\">ACCESING TUPLES"
   ]
  },
  {
   "cell_type": "code",
   "execution_count": null,
   "id": "f190e50d",
   "metadata": {},
   "outputs": [],
   "source": [
    "data1=(1,2,3,4)\n",
    "data2=('x','y','z','w')\n",
    "data3=(10,20,\"aman\",34.5)\n",
    "print(data1[0:2])\n",
    "print(data2[0:])\n",
    "print(data1[-4:-3:-1])"
   ]
  },
  {
   "cell_type": "code",
   "execution_count": null,
   "id": "7ea2d4d6",
   "metadata": {},
   "outputs": [],
   "source": [
    "#Tuple concatenate operator (+):-This operator is used to add the list w\\ith another list\n",
    "tup1=(10,20,30,40)\n",
    "tup2=(50,60,70,80)\n",
    "tup3=tup1+tup2\n",
    "print(tup3)"
   ]
  },
  {
   "cell_type": "code",
   "execution_count": null,
   "id": "811a44b7",
   "metadata": {},
   "outputs": [],
   "source": [
    "#Tuple replicate operator(*):-This operator is used to repeat the tuple at a given number of times\n",
    "tup1=(10,20,30,40,50)\n",
    "tup2=('a','b','c','d','e')\n",
    "print(tup1*3)\n",
    "print(2*tup2)"
   ]
  },
  {
   "cell_type": "code",
   "execution_count": null,
   "id": "b06a8b86",
   "metadata": {},
   "outputs": [],
   "source": [
    "#updating of tuple elemnts\n",
    "data=(10,20,30,40,50,60)\n",
    "print(data)\n",
    "#data[2]='Multiple of 5' # we can not update tuple elements\n",
    "print(data)"
   ]
  },
  {
   "cell_type": "code",
   "execution_count": null,
   "id": "c47ec2b8",
   "metadata": {},
   "outputs": [],
   "source": [
    "#deleting of tuple elemnts[we cannot delete a single element]\n",
    "data=(10,20,30,40,50,60)\n",
    "print(data)\n",
    "del data\n",
    "print(data)"
   ]
  },
  {
   "cell_type": "markdown",
   "id": "36b902fa",
   "metadata": {},
   "source": [
    "##### <font color=\"red\">Tuple handling function and methods"
   ]
  },
  {
   "cell_type": "code",
   "execution_count": null,
   "id": "5bdb528e",
   "metadata": {},
   "outputs": [],
   "source": [
    "#len():-This function is used to find the number of elements present in the list\n",
    "data=(10,20,30,40,50,60)\n",
    "print(len(data))"
   ]
  },
  {
   "cell_type": "code",
   "execution_count": null,
   "id": "a67bfb79",
   "metadata": {},
   "outputs": [],
   "source": [
    "#min():-This function is used to find the smallest element present in the list\n",
    "data=(10,20,30,40,50,60)\n",
    "print(min(data))"
   ]
  },
  {
   "cell_type": "code",
   "execution_count": null,
   "id": "aace0fe7",
   "metadata": {},
   "outputs": [],
   "source": [
    "#max():-This function is used to find the largest element present in the list\n",
    "data=(10,20,30,40,50,60)\n",
    "print(max(data))"
   ]
  },
  {
   "cell_type": "code",
   "execution_count": null,
   "id": "a8eab030",
   "metadata": {},
   "outputs": [],
   "source": [
    "# .index():-This method isused to find out the index of a particular elements\n",
    "data=(10,20,30,40,50,60)\n",
    "print(data.index(40))"
   ]
  },
  {
   "cell_type": "code",
   "execution_count": null,
   "id": "287d312e",
   "metadata": {},
   "outputs": [],
   "source": [
    "# .count():This methods is used to find out the the how many times a repeated elements will occur\n",
    "data=(10,40,30,40,50,60,40)\n",
    "print(data.count(40))"
   ]
  },
  {
   "cell_type": "markdown",
   "id": "1168d7c0",
   "metadata": {},
   "source": [
    "# DICTIONARY IN PYTHON"
   ]
  },
  {
   "cell_type": "markdown",
   "id": "9661e726",
   "metadata": {},
   "source": [
    "<font color=\"red\">=>Dictionary is an ordered set of key and value pair.It is an container that contains data enclosed within curle braces.\n",
    "\n",
    "<font color=\"red\">=>The Pair i.e key and value is known as an items.\n",
    "\n",
    "<font color=\"red\">=>The key passed in the data items must be unique.\n",
    "\n",
    "<font color=\"red\">=>The key and value is separated by a colon(:)\n",
    "\n",
    "<font color=\"red\">=>Items are separated by a comma(,)\n",
    "\n",
    "<font color=\"red\">=>Differnt items are enclosed within a curle braces and this form a dictionary\n",
    "\n",
    "<font color=\"red\">=>Dictionary is mutable ie value can be updated\n",
    "\n",
    "<font color=\"red\">=>Dictionary is known as an associative array since the key works as index and they are decided by the user\n"
   ]
  },
  {
   "cell_type": "markdown",
   "id": "392af98b",
   "metadata": {},
   "source": [
    "<font color=\"blue\"><b>How to create a dictionary"
   ]
  },
  {
   "cell_type": "code",
   "execution_count": 1,
   "id": "6c135c13",
   "metadata": {},
   "outputs": [
    {
     "name": "stdout",
     "output_type": "stream",
     "text": [
      "{100: 'aman', 200: 'deepak', 300: 'pankaj', 400: 'Raj'}\n",
      "<class 'dict'>\n",
      "\n",
      "{11: 'aman', 22: 'ankit', 33: 'Rohit', 44: 'Raj'}\n",
      "<class 'dict'>\n"
     ]
    }
   ],
   "source": [
    "#1st Method\n",
    "dict={100:'aman',200:\"deepak\",300:\"pankaj\",400:\"Raj\"}\n",
    "print(dict)\n",
    "print(type(dict))\n",
    "print()\n",
    "\n",
    "#2nd Method\n",
    "data={}\n",
    "data[11]=\"aman\"\n",
    "data[22]=\"ankit\"\n",
    "data[33]=\"Rohit\"\n",
    "data[44]=\"Raj\"\n",
    "print(data)\n",
    "print(type(data))"
   ]
  },
  {
   "cell_type": "markdown",
   "id": "4613408c",
   "metadata": {},
   "source": [
    "<font color=\"red\"><b>updation of dictionary elements</font>"
   ]
  },
  {
   "cell_type": "code",
   "execution_count": 2,
   "id": "589b8380",
   "metadata": {},
   "outputs": [
    {
     "name": "stdout",
     "output_type": "stream",
     "text": [
      "{'id': 11, 'name': 'aman', 'age': 23, 'profile': 'manager'}\n",
      "\n",
      "{'id': 22, 'name': 'Ankit', 'age': 23, 'profile': 'developer'}\n"
     ]
    }
   ],
   "source": [
    "data1={'id':11,'name':'aman','age':23,'profile':'manager'}\n",
    "print(data1)\n",
    "print()\n",
    "data1[\"profile\"]='developer'\n",
    "data1[\"id\"]=22\n",
    "data1[\"name\"]=\"Ankit\"\n",
    "data1[\"age\"]=23\n",
    "print(data1)"
   ]
  },
  {
   "cell_type": "markdown",
   "id": "20707140",
   "metadata": {},
   "source": [
    "#### <font color=\"red\"><b>deletion of dictionary elements</font>"
   ]
  },
  {
   "cell_type": "code",
   "execution_count": null,
   "id": "665b6e74",
   "metadata": {},
   "outputs": [],
   "source": [
    "data={'id':11,'name':'aman','age':23,'profile':'manager'}\n",
    "print(data)\n",
    "del data['age']\n",
    "print(data)\n",
    "del data\n",
    "#print(data)"
   ]
  },
  {
   "cell_type": "markdown",
   "id": "a9bd42b7",
   "metadata": {},
   "source": [
    "#### <font color=\"black\">dictionary methods in python</font>"
   ]
  },
  {
   "cell_type": "code",
   "execution_count": 3,
   "id": "ad18b8f5",
   "metadata": {},
   "outputs": [
    {
     "name": "stdout",
     "output_type": "stream",
     "text": [
      "4\n"
     ]
    }
   ],
   "source": [
    "#len():-this function is used to find the length/items in a dictionary\n",
    "data={'id':11,'name':'aman','age':23,'profile':'manager'}\n",
    "print(len(data))"
   ]
  },
  {
   "cell_type": "code",
   "execution_count": 4,
   "id": "a282ca70",
   "metadata": {},
   "outputs": [
    {
     "name": "stdout",
     "output_type": "stream",
     "text": [
      "profile\n"
     ]
    }
   ],
   "source": [
    "#max():-this function is used to find the largest element according to key wise\n",
    "data={'id':11,'name':'aman','age':23,'profile':'manager'}\n",
    "print(max(data))"
   ]
  },
  {
   "cell_type": "code",
   "execution_count": null,
   "id": "3e10da0f",
   "metadata": {},
   "outputs": [],
   "source": [
    "#min():-this function is used to find the minimum element according to key wise\n",
    "data={'id':11,'name':'aman','age':23,'profile':'manager'}\n",
    "print(min(data))"
   ]
  },
  {
   "cell_type": "code",
   "execution_count": 9,
   "id": "4158314b",
   "metadata": {},
   "outputs": [
    {
     "name": "stdout",
     "output_type": "stream",
     "text": [
      "{}\n",
      "{11: 'amar', 22: 'ankit', 33: 'alok', 44: 'anand', 55: 'pankaj', 66: 'Raj'}\n"
     ]
    }
   ],
   "source": [
    "#clear():-this methods is used to clear the element from the dictionary\n",
    "data={'id':11,'name':'aman','age':23,'profile':'manager'}\n",
    "data.clear()\n",
    "print(data)\n",
    "data[11]=\"amar\"\n",
    "data[22]=\"ankit\"\n",
    "data[33]=\"alok\"\n",
    "data[44]=\"anand\"\n",
    "data[55]=\"pankaj\"\n",
    "data[66]=\"Raj\"\n",
    "print(data)"
   ]
  },
  {
   "cell_type": "code",
   "execution_count": 5,
   "id": "112038fa",
   "metadata": {},
   "outputs": [
    {
     "name": "stdout",
     "output_type": "stream",
     "text": [
      "dict_values([11, 'aman', 23, 'manager'])\n"
     ]
    }
   ],
   "source": [
    "#.values():-This method is used to find out all the the values in the data items  present in the dictionary\n",
    "data={'id':11,'name':'aman','age':23,'profile':'manager'}\n",
    "print(data.values())\n"
   ]
  },
  {
   "cell_type": "code",
   "execution_count": 6,
   "id": "1c95bad0",
   "metadata": {},
   "outputs": [
    {
     "name": "stdout",
     "output_type": "stream",
     "text": [
      "dict_keys(['id', 'name', 'age', 'profile'])\n"
     ]
    }
   ],
   "source": [
    "#.keys():-This method is used to find out the key of all data items of the elements in the dictionary\n",
    "data={'id':11,'name':'aman','age':23,'profile':'manager'}\n",
    "print(data.keys())"
   ]
  },
  {
   "cell_type": "code",
   "execution_count": 7,
   "id": "868a8c9a",
   "metadata": {},
   "outputs": [
    {
     "name": "stdout",
     "output_type": "stream",
     "text": [
      "dict_items([('id', 11), ('name', 'aman'), ('age', 23), ('profile', 'manager')])\n"
     ]
    }
   ],
   "source": [
    "#.items():-this method is used to find out all the data items prsent in the dictionary.\n",
    "data={'id':11,'name':'aman','age':23,'profile':'manager'}\n",
    "print(data.items())"
   ]
  },
  {
   "cell_type": "code",
   "execution_count": 8,
   "id": "3ff8d551",
   "metadata": {},
   "outputs": [
    {
     "name": "stdout",
     "output_type": "stream",
     "text": [
      "11\n",
      "\n",
      "24\n"
     ]
    }
   ],
   "source": [
    "# .values():-this method is used to find out the minimum values\n",
    "data={'id':11,'name':22,'age':23,'profile':24}\n",
    "print(min(data.values()))\n",
    "print()\n",
    "print(max(data.values()))"
   ]
  },
  {
   "cell_type": "code",
   "execution_count": null,
   "id": "f3dba827",
   "metadata": {},
   "outputs": [],
   "source": [
    "#.update():-this method is used update more than one dictionary items into a previous dictionary items\n",
    "data1={1:100,2:200,3:300,4:400,5:500}\n",
    "data2={'a':10,'b':20,'c':30,'d':40}\n",
    "data1.update(data2)\n",
    "print(data1)\n",
    "print()\n",
    "data2.update(data1)\n",
    "print(data2)"
   ]
  },
  {
   "cell_type": "code",
   "execution_count": 10,
   "id": "ea293441",
   "metadata": {},
   "outputs": [
    {
     "name": "stdout",
     "output_type": "stream",
     "text": [
      "{1: 100, 2: 200, 3: 300, 4: 400, 5: 500}\n"
     ]
    }
   ],
   "source": [
    "#.copy():-This method is used to copy the dictionary items into single variable\n",
    "data1={1:100,2:200,3:300,4:400,5:500}\n",
    "data2=data1.copy()\n",
    "print(data2)"
   ]
  },
  {
   "cell_type": "code",
   "execution_count": 11,
   "id": "d540332e",
   "metadata": {},
   "outputs": [
    {
     "name": "stdout",
     "output_type": "stream",
     "text": [
      "11\n",
      "\n",
      "deepak\n",
      "\n",
      "25000\n",
      "\n",
      "None\n"
     ]
    },
    {
     "ename": "KeyError",
     "evalue": "'100'",
     "output_type": "error",
     "traceback": [
      "\u001b[1;31m---------------------------------------------------------------------------\u001b[0m",
      "\u001b[1;31mKeyError\u001b[0m                                  Traceback (most recent call last)",
      "Cell \u001b[1;32mIn[11], line 13\u001b[0m\n\u001b[0;32m      8\u001b[0m \u001b[38;5;28mprint\u001b[39m()\n\u001b[0;32m     11\u001b[0m \u001b[38;5;28mprint\u001b[39m(data1\u001b[38;5;241m.\u001b[39mget(\u001b[38;5;124m'\u001b[39m\u001b[38;5;124m100\u001b[39m\u001b[38;5;124m'\u001b[39m))\u001b[38;5;66;03m# In get() method error will not occur id key is not present in the dictionary\u001b[39;00m\n\u001b[1;32m---> 13\u001b[0m \u001b[38;5;28mprint\u001b[39m(\u001b[43mdata1\u001b[49m\u001b[43m[\u001b[49m\u001b[38;5;124;43m'\u001b[39;49m\u001b[38;5;124;43m100\u001b[39;49m\u001b[38;5;124;43m'\u001b[39;49m\u001b[43m]\u001b[49m)\n",
      "\u001b[1;31mKeyError\u001b[0m: '100'"
     ]
    }
   ],
   "source": [
    "#.get(key):-this method is used to fetch the particular value in the dictionary and it only fetch the value\n",
    "data1={'id':11,'name':'deepak','age':23,'salary':25000}\n",
    "print(data1.get('id'))\n",
    "print()\n",
    "print(data1.get('name'))\n",
    "print()\n",
    "print(data1.get('salary'))\n",
    "print()\n",
    "\n",
    "\n",
    "print(data1.get('100'))# In get() method error will not occur id key is not present in the dictionary\n",
    "\n",
    "print(data1['100']) #it will trace an error if key is noty present in the dictionary"
   ]
  },
  {
   "cell_type": "code",
   "execution_count": null,
   "id": "d74a5778",
   "metadata": {},
   "outputs": [],
   "source": [
    "#.fromkeys(seq,value):-If we have to provide the same value to all the key of the data items then we we fromkeys methods\n",
    "seq=('id','name','age','salary','city','email')\n",
    "data={}\n",
    "data=data.fromkeys(seq,100)\n",
    "print(data)"
   ]
  },
  {
   "cell_type": "code",
   "execution_count": null,
   "id": "f8e9b255",
   "metadata": {},
   "outputs": [],
   "source": [
    "#dict():-this method is used to make the empty dictionary\n",
    "data=dict()\n",
    "print(type(data))"
   ]
  },
  {
   "cell_type": "markdown",
   "id": "f905ee1f",
   "metadata": {},
   "source": [
    "<font color=\"red\">Interview questions<font>"
   ]
  },
  {
   "cell_type": "code",
   "execution_count": 15,
   "id": "8b80a7e5",
   "metadata": {},
   "outputs": [
    {
     "ename": "TypeError",
     "evalue": "'dict' object is not callable",
     "output_type": "error",
     "traceback": [
      "\u001b[1;31m---------------------------------------------------------------------------\u001b[0m",
      "\u001b[1;31mTypeError\u001b[0m                                 Traceback (most recent call last)",
      "Cell \u001b[1;32mIn[15], line 3\u001b[0m\n\u001b[0;32m      1\u001b[0m \u001b[38;5;28mid\u001b[39m\u001b[38;5;241m=\u001b[39m[\u001b[38;5;241m11\u001b[39m,\u001b[38;5;241m22\u001b[39m,\u001b[38;5;241m33\u001b[39m,\u001b[38;5;241m44\u001b[39m]\n\u001b[0;32m      2\u001b[0m name\u001b[38;5;241m=\u001b[39m[\u001b[38;5;124m\"\u001b[39m\u001b[38;5;124mankit\u001b[39m\u001b[38;5;124m\"\u001b[39m,\u001b[38;5;124m\"\u001b[39m\u001b[38;5;124maman\u001b[39m\u001b[38;5;124m\"\u001b[39m,\u001b[38;5;124m\"\u001b[39m\u001b[38;5;124mdeepak\u001b[39m\u001b[38;5;124m\"\u001b[39m,\u001b[38;5;124m\"\u001b[39m\u001b[38;5;124mpankaj\u001b[39m\u001b[38;5;124m\"\u001b[39m]\n\u001b[1;32m----> 3\u001b[0m dic\u001b[38;5;241m=\u001b[39m\u001b[38;5;28;43mdict\u001b[39;49m\u001b[43m(\u001b[49m\u001b[38;5;28;43mzip\u001b[39;49m\u001b[43m(\u001b[49m\u001b[38;5;28;43mid\u001b[39;49m\u001b[43m,\u001b[49m\u001b[43mname\u001b[49m\u001b[43m)\u001b[49m\u001b[43m)\u001b[49m\n\u001b[0;32m      4\u001b[0m \u001b[38;5;28mprint\u001b[39m(dic)\n",
      "\u001b[1;31mTypeError\u001b[0m: 'dict' object is not callable"
     ]
    }
   ],
   "source": [
    "id=[11,22,33,44]\n",
    "name=[\"ankit\",\"aman\",\"deepak\",\"pankaj\"]\n",
    "dic=dict(zip(id,name))\n",
    "print(dic)"
   ]
  },
  {
   "cell_type": "markdown",
   "id": "3c08648e",
   "metadata": {},
   "source": [
    "### Nested dictionary in python"
   ]
  },
  {
   "cell_type": "code",
   "execution_count": null,
   "id": "df7e844b",
   "metadata": {},
   "outputs": [],
   "source": [
    "employees={1:{'name':'aman','age':23,'salary':2300},\n",
    "           2:{'name':'raj','age':34,'salary':3000},\n",
    "           3:{'name':'ankit','age':23,'salary':222},\n",
    "           4:{'name':'ankit','age':23,'salary':300}\n",
    "          }\n",
    "print(employees)\n",
    "print(employees[1])\n",
    "print(employees[2][\"salary\"])\n",
    "print(employees[4][\"name\"])"
   ]
  },
  {
   "cell_type": "code",
   "execution_count": 16,
   "id": "137426b5",
   "metadata": {},
   "outputs": [
    {
     "name": "stdout",
     "output_type": "stream",
     "text": [
      "{1: {'name': 'aman', 'age': 23, 'salary': 2300}, 2: {'name': 'raj', 'age': 34, 'salary': 3000}, 3: {'name': 'ankit', 'age': 23, 'salary': 222}, 4: {'name': 'Saroj', 'age': 56, 'salary': 7000}}\n"
     ]
    }
   ],
   "source": [
    "#updation of dictionary elements in the dictionary elements\n",
    "employees={1:{'name':'aman','age':23,'salary':2300},\n",
    "           2:{'name':'raj','age':34,'salary':3000},\n",
    "           3:{'name':'ankit','age':23,'salary':222},\n",
    "           4:{'name':'ankit','age':23,'salary':300}\n",
    "          }\n",
    "employees[4]={}\n",
    "employees[4]['name']='Saroj'\n",
    "employees[4]['age']=56\n",
    "employees[4]['salary']=7000\n",
    "print(employees)"
   ]
  },
  {
   "cell_type": "code",
   "execution_count": null,
   "id": "aa720fc5",
   "metadata": {},
   "outputs": [],
   "source": [
    "# modify dictionary elements in nested dictionary\n",
    "employees={1:{'name':'aman','age':23,'salary':2300},\n",
    "           2:{'name':'raj','age':34,'salary':3000},\n",
    "           3:{'name':'ankit','age':23,'salary':222},\n",
    "           4:{'name':'ankit','age':23,'salary':300}\n",
    "          }\n",
    "employees[1]['name']=\"Ramu\"\n",
    "print(employees[1])"
   ]
  },
  {
   "cell_type": "code",
   "execution_count": null,
   "id": "12cff9c0",
   "metadata": {},
   "outputs": [],
   "source": [
    "#delete of dictionary elements in the nested dictionary\n",
    "employees={1:{'name':'aman','age':23,'salary':2300},\n",
    "           2:{'name':'raj','age':34,'salary':3000},\n",
    "           3:{'name':'ankit','age':23,'salary':222},\n",
    "           4:{'name':'ankit','age':23,'salary':300}\n",
    "          }\n",
    "del employees[1]\n",
    "print(employees)\n",
    "print()\n",
    "del employees[3]['age']\n",
    "print(employees)"
   ]
  },
  {
   "cell_type": "markdown",
   "id": "4d2bdf00",
   "metadata": {},
   "source": [
    "# SET IN PYTHON"
   ]
  },
  {
   "cell_type": "markdown",
   "id": "8bde2b77",
   "metadata": {},
   "source": [
    "<font color=\"red\">=>set data type is introduced in python after the 2.4 version of python.\n",
    "\n",
    "<font color=\"red\">=>The set data type \"set\" which is a collection of type has been part of python since 2.4\n",
    "\n",
    "<font color=\"red\">=>Set is an orderd collection of unique and mutable object.\n",
    "\n",
    "<font color=\"red\">=>set is mutable data type.\n",
    "\n",
    "<font color=\"red\">=>set is an unordered collection of unique data type\n",
    "\n",
    "<font color=\"red\">=>set does not support indexing and slicing."
   ]
  },
  {
   "cell_type": "code",
   "execution_count": null,
   "id": "b2bb2409",
   "metadata": {},
   "outputs": [],
   "source": [
    "#set():-this function is used to make an empty set in the set data type\n",
    "data=set()\n",
    "data.add(20)\n",
    "data.add(30)\n",
    "data.add(60)\n",
    "data.add(40)\n",
    "print(data)\n"
   ]
  },
  {
   "cell_type": "code",
   "execution_count": 1,
   "id": "9941e81e",
   "metadata": {},
   "outputs": [
    {
     "name": "stdout",
     "output_type": "stream",
     "text": [
      "{50, 20, 70, 40, 10, 30}\n"
     ]
    }
   ],
   "source": [
    "# .add():-this method is used to add the element in a particular set\n",
    "data={10,20,30,40,50}\n",
    "data.add(70)\n",
    "print(data)"
   ]
  },
  {
   "cell_type": "code",
   "execution_count": 4,
   "id": "09be24e7",
   "metadata": {},
   "outputs": [
    {
     "name": "stdout",
     "output_type": "stream",
     "text": [
      "{50, 20, 40, 10}\n",
      "\n"
     ]
    },
    {
     "ename": "KeyError",
     "evalue": "100",
     "output_type": "error",
     "traceback": [
      "\u001b[1;31m---------------------------------------------------------------------------\u001b[0m",
      "\u001b[1;31mKeyError\u001b[0m                                  Traceback (most recent call last)",
      "Cell \u001b[1;32mIn[4], line 7\u001b[0m\n\u001b[0;32m      5\u001b[0m \u001b[38;5;28mprint\u001b[39m(data)\n\u001b[0;32m      6\u001b[0m \u001b[38;5;28mprint\u001b[39m()\n\u001b[1;32m----> 7\u001b[0m \u001b[43mdata\u001b[49m\u001b[38;5;241;43m.\u001b[39;49m\u001b[43mremove\u001b[49m\u001b[43m(\u001b[49m\u001b[38;5;241;43m100\u001b[39;49m\u001b[43m)\u001b[49m \u001b[38;5;66;03m#it will produce an error because 100 is not presenrt in ther particular set\u001b[39;00m\n\u001b[0;32m      8\u001b[0m \u001b[38;5;28mprint\u001b[39m(data)\n",
      "\u001b[1;31mKeyError\u001b[0m: 100"
     ]
    }
   ],
   "source": [
    "# .remove():-this method is used to remove the particular element in a set\n",
    "#             and produce an error if the element is not present in a set\n",
    "data={10,20,30,40,50}\n",
    "data.remove(30)\n",
    "print(data)\n",
    "print()\n",
    "data.remove(100) #it will produce an error because 100 is not presenrt in ther particular set\n",
    "print(data)"
   ]
  },
  {
   "cell_type": "code",
   "execution_count": 15,
   "id": "f4e0a0f7",
   "metadata": {},
   "outputs": [
    {
     "name": "stdout",
     "output_type": "stream",
     "text": [
      "{'apple', 'guava', 'papaya'}\n",
      "\n",
      "{'apple', 'guava', 'papaya'}\n"
     ]
    }
   ],
   "source": [
    "#.discard():-this method is used to remove the specified items from the set and it will not \n",
    "#             produce an error if the elemnt is not present in the set.\n",
    "fruits={\"banana\",\"apple\",\"papaya\",\"guava\"}\n",
    "fruits.discard(\"banana\")\n",
    "print(fruits)\n",
    "print()\n",
    "fruits.discard(\"mango\")\n",
    "print(fruits)"
   ]
  },
  {
   "cell_type": "code",
   "execution_count": 8,
   "id": "744895e7",
   "metadata": {},
   "outputs": [
    {
     "name": "stdout",
     "output_type": "stream",
     "text": [
      "set()\n",
      "\n",
      "{'ramu', 'sohan', 75, 45, 30}\n"
     ]
    }
   ],
   "source": [
    "# .clear():-clear method is used to remove all the elements from the set.using this method we clr\n",
    "#                 all the elements in the set not clear the entire set.\n",
    "#            clear() method is used to only empty the existing set.\n",
    "data={10,20,30,40,50}\n",
    "data.clear()\n",
    "print(data)\n",
    "print()\n",
    "data.add(\"ramu\")\n",
    "data.add(30)\n",
    "data.add(45)\n",
    "data.add(\"sohan\")\n",
    "data.add(75)\n",
    "print(data)"
   ]
  },
  {
   "cell_type": "code",
   "execution_count": 11,
   "id": "9445daa5",
   "metadata": {},
   "outputs": [
    {
     "name": "stdout",
     "output_type": "stream",
     "text": [
      "{50, 20, 40, 10, 30}\n"
     ]
    }
   ],
   "source": [
    "#.copy():-this method is used to copy the the set items into anothe variable\n",
    "data={10,20,30,40,50}\n",
    "data1=data.copy()\n",
    "print(data1)"
   ]
  },
  {
   "cell_type": "code",
   "execution_count": 19,
   "id": "1028bdc2",
   "metadata": {},
   "outputs": [
    {
     "name": "stdout",
     "output_type": "stream",
     "text": [
      "{20, 40, 10, 30}\n",
      "50\n"
     ]
    }
   ],
   "source": [
    "#.pop():-the pop method is used to remove the random items from the set.\n",
    "#        this method returns the removed items\\\n",
    "\n",
    "data={10,20,30,40,50}\n",
    "x=data.pop()\n",
    "print(data)\n",
    "print(x)"
   ]
  },
  {
   "cell_type": "code",
   "execution_count": 13,
   "id": "f790e7a8",
   "metadata": {},
   "outputs": [
    {
     "name": "stdout",
     "output_type": "stream",
     "text": [
      "{40, 'd', 10, 'b', 50, 'a', 20, 'c', 30}\n"
     ]
    }
   ],
   "source": [
    "# .update():-this method is used to add more than one element in a set\n",
    "data1={10,20,30,40,50}\n",
    "data2={'a','b','c','d'}\n",
    "data1.update(data2)\n",
    "print(data1)"
   ]
  },
  {
   "cell_type": "code",
   "execution_count": 6,
   "id": "d004293c",
   "metadata": {},
   "outputs": [
    {
     "name": "stdout",
     "output_type": "stream",
     "text": [
      "frozenset({50, 20, 40, 10, 30})\n",
      "<class 'frozenset'>\n",
      "frozenset({50, 20, 40, 10, 30})\n",
      "\n"
     ]
    },
    {
     "ename": "NameError",
     "evalue": "name 'data' is not defined",
     "output_type": "error",
     "traceback": [
      "\u001b[1;31m---------------------------------------------------------------------------\u001b[0m",
      "\u001b[1;31mNameError\u001b[0m                                 Traceback (most recent call last)",
      "Cell \u001b[1;32mIn[6], line 19\u001b[0m\n\u001b[0;32m     16\u001b[0m \u001b[38;5;66;03m# īn frozenset() we can only delete the set not add,delete,update or ant another method is not\u001b[39;00m\n\u001b[0;32m     17\u001b[0m \u001b[38;5;66;03m#                accessible.\u001b[39;00m\n\u001b[0;32m     18\u001b[0m \u001b[38;5;28;01mdel\u001b[39;00m data\n\u001b[1;32m---> 19\u001b[0m \u001b[38;5;28mprint\u001b[39m(\u001b[43mdata\u001b[49m)\n",
      "\u001b[1;31mNameError\u001b[0m: name 'data' is not defined"
     ]
    }
   ],
   "source": [
    "#frozenset():-this method is used to creates an immutable set object from an iterable.\n",
    "#             it is built-in python function.As it is set object,therefore we cannot have duplicat\n",
    "#               value in the given set.\n",
    "data=frozenset({10,20,30,40,50})\n",
    "print(data)\n",
    "print(type(data))\n",
    "#data.add(100)#it will produce an error because frozenset is not accesible\n",
    "print(data)\n",
    "print()\n",
    "\n",
    "\n",
    "\n",
    "\n",
    "\n",
    "\n",
    "# īn frozenset() we can only delete the set not add,delete,update or ant another method is not\n",
    "#                accessible.\n",
    "del data\n",
    "print(data)"
   ]
  },
  {
   "cell_type": "code",
   "execution_count": null,
   "id": "896294f6",
   "metadata": {},
   "outputs": [],
   "source": []
  }
 ],
 "metadata": {
  "kernelspec": {
   "display_name": "Python 3 (ipykernel)",
   "language": "python",
   "name": "python3"
  },
  "language_info": {
   "codemirror_mode": {
    "name": "ipython",
    "version": 3
   },
   "file_extension": ".py",
   "mimetype": "text/x-python",
   "name": "python",
   "nbconvert_exporter": "python",
   "pygments_lexer": "ipython3",
   "version": "3.11.7"
  }
 },
 "nbformat": 4,
 "nbformat_minor": 5
}
