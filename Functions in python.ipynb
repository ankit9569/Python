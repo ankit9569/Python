{
 "cells": [
  {
   "cell_type": "markdown",
   "id": "5a4a0bcf",
   "metadata": {},
   "source": [
    "# <font color=\"red\">Functions in python"
   ]
  },
  {
   "cell_type": "markdown",
   "id": "60e892cc",
   "metadata": {},
   "source": [
    "=>A function is a block of organized, reusable code that is used to perform a single, related action.\n",
    "\n",
    "=>Functions provide better modularity for your application and a high degree of code reusing.\n",
    "\n",
    "=>As you already know, Python gives you many built-in functions like print(), etc. \n",
    "\n",
    "=>but you can also create your own functions. These functions are called user-defined functions."
   ]
  },
  {
   "cell_type": "markdown",
   "id": "2f5bc5a9",
   "metadata": {},
   "source": [
    "Syntax:-\n",
    "    \n",
    "    def functionname( parameters ):\n",
    "   \n",
    "       \"function_docstring\"\n",
    "     \n",
    "         function_suite\n",
    "   \n",
    "        return [expression]"
   ]
  },
  {
   "cell_type": "markdown",
   "id": "4100ec5a",
   "metadata": {},
   "source": [
    "### <font color=\"red\">Types of function"
   ]
  },
  {
   "cell_type": "markdown",
   "id": "e2cf9c9b",
   "metadata": {},
   "source": [
    "#### 1)System Defined Function"
   ]
  },
  {
   "cell_type": "markdown",
   "id": "13172676",
   "metadata": {},
   "source": [
    "=>The function whose definition is defined by the system is called as system defined function. \n",
    "\n",
    "=>The system defined functions are also called as Library Functions or Standard Functions or Pre-Defined Functions. \n",
    "\n",
    "=>The implementation of system defined functions is already defined by the system."
   ]
  },
  {
   "cell_type": "markdown",
   "id": "f5703c82",
   "metadata": {},
   "source": [
    "#### 2)User defined Function"
   ]
  },
  {
   "cell_type": "markdown",
   "id": "7ccb95ca",
   "metadata": {},
   "source": [
    "=>All the functions that are written by any us comes under the category of user defined functions.\n",
    "\n",
    "=>Below are the steps for writing user defined functions in Python.\n",
    "\n",
    "=>In Python, def keyword is used to declare user defined functions. \n",
    " \n",
    "=>An indented block of statements follows the function name and arguments which contains the body of the function. \n",
    " "
   ]
  },
  {
   "cell_type": "markdown",
   "id": "7abd24c8",
   "metadata": {},
   "source": [
    "### <font color=\"red\">Classification of user defined function in python"
   ]
  },
  {
   "cell_type": "markdown",
   "id": "dd5f0565",
   "metadata": {},
   "source": [
    "There are four types of user defined functions on the basic of their passing arguments and return values\n"
   ]
  },
  {
   "cell_type": "markdown",
   "id": "df086993",
   "metadata": {},
   "source": [
    "1)Function with no  arguments and no return values\n",
    "\n",
    "2)Function with  no arguments and  return values\n",
    "\n",
    "3)Function with arguments and  no return values\n",
    "\n",
    "4)Function with  arguments and  return values"
   ]
  },
  {
   "cell_type": "markdown",
   "id": "f3a1bfbc",
   "metadata": {},
   "source": [
    "### <font color=\"red\">Scope of a function"
   ]
  },
  {
   "cell_type": "markdown",
   "id": "b23f5dbe",
   "metadata": {},
   "source": [
    "There are two scope of a function:-"
   ]
  },
  {
   "cell_type": "markdown",
   "id": "97bc7da2",
   "metadata": {},
   "source": [
    "### 1)Local variable"
   ]
  },
  {
   "cell_type": "markdown",
   "id": "1fce8f9d",
   "metadata": {},
   "source": [
    "=>Variable that are defined within an function is calles local variable\n",
    "\n",
    "=>local variable can be accessed within the  function\n",
    "\n",
    "=>we cannot use local variable throughout  all the function."
   ]
  },
  {
   "cell_type": "markdown",
   "id": "31b02fe6",
   "metadata": {},
   "source": [
    "### 2)Global variable"
   ]
  },
  {
   "cell_type": "markdown",
   "id": "d1fbd7a6",
   "metadata": {},
   "source": [
    "=>Variable that are defined outside the function are called global variable\n",
    "\n",
    "=>We can access the global variable throughout the program\n",
    "\n",
    "=>we can we use global variable as local variable as  \"global keyword\""
   ]
  },
  {
   "cell_type": "markdown",
   "id": "0b87bed3",
   "metadata": {},
   "source": [
    "### <font color=\"red\">Important points"
   ]
  },
  {
   "cell_type": "markdown",
   "id": "718d2052",
   "metadata": {},
   "source": [
    "### 1)Formal arguments"
   ]
  },
  {
   "cell_type": "markdown",
   "id": "82f66392",
   "metadata": {},
   "source": [
    "=>When a function is defined, it may have some parameters.\n",
    "\n",
    "=>These parameters are useful to receive values from outside of the function. \n",
    "\n",
    "=>They are called 'formal arguments'.\n",
    "\n",
    "\n",
    "<font color=\"red\">def add(a,b):  #formal arguments\n",
    "    \n",
    "    return x+y\n",
    "\n",
    "<font color=\"red\">add(x,y)#actual arguments"
   ]
  },
  {
   "cell_type": "markdown",
   "id": "410ac2ba",
   "metadata": {},
   "source": [
    "### 2)Actual arguments"
   ]
  },
  {
   "cell_type": "markdown",
   "id": "395f7460",
   "metadata": {},
   "source": [
    "=>When we call the function, we should pass data or values to the function.\n",
    "\n",
    "=>These values are called 'actual arguments'.\n",
    "\n",
    "=>In the following code, 'a' and 'b' are formal arguments and 'x' and 'y' are actual arguments."
   ]
  },
  {
   "cell_type": "markdown",
   "id": "1740b464",
   "metadata": {},
   "source": [
    "### <font color=\"red\"> Types of Formal arguments"
   ]
  },
  {
   "cell_type": "markdown",
   "id": "d80ee53e",
   "metadata": {},
   "source": [
    "There are four types of formal arguments defined in python.\n",
    "\n",
    "1)Positional arguments/Required arguments\n",
    "\n",
    "2)Default arguments\n",
    "\n",
    "3)Keyword arguments/Named arguments\n",
    "\n",
    "4)variable length arguments [*args[Arbitrary arguments]  and  **kwargs[keyword arbitary arguments]]\n"
   ]
  },
  {
   "cell_type": "markdown",
   "id": "5dd5c0c4",
   "metadata": {},
   "source": [
    "### 1)Positional arguments"
   ]
  },
  {
   "cell_type": "markdown",
   "id": "1dc66dcd",
   "metadata": {},
   "source": [
    "=>These are the arguments passed to a function in correct positional order. \n",
    "\n",
    "=>Here, the number of arguments and their positions in the function definition should match exactly with the number \n",
    "              \n",
    "           and position of the argument in the function call.\n",
    "\n",
    " =>For example, take a function definition with two arguments as:\n",
    "\n",
    "def attach(s1, s2)\n",
    "\n",
    "attach('New', 'York')\n",
    "\n",
    "Also, if we try to pass more than or less than 2 strings, there will be an error. \n",
    "\n",
    "For example, if we call the function by passing 3 strings as:\n",
    "\n",
    "attach('New', 'York', 'City') #results error"
   ]
  },
  {
   "cell_type": "code",
   "execution_count": null,
   "id": "b57a0330",
   "metadata": {},
   "outputs": [],
   "source": [
    "#Program of positional arguments\n",
    "def add(x,y):\n",
    "    return x+y\n",
    "\n",
    "add(5,5)"
   ]
  },
  {
   "cell_type": "markdown",
   "id": "57c90f58",
   "metadata": {},
   "source": [
    "### 2)Default arguments"
   ]
  },
  {
   "cell_type": "markdown",
   "id": "9ec7bbfa",
   "metadata": {},
   "source": [
    "=>We can mention some default value for the function parameters in the definition. \n",
    "\n",
    "=>Let's take the definition of grocery() function as:\n",
    "\n",
    "def grocery(item, price=40.00):\n",
    "\n",
    "=>Here, the first argument is 'item' whose default value is not mentioned. \n",
    "\n",
    "=>But the second argument is 'price' and its default value is mentioned to be 40.00.\n",
    "\n",
    "=>At the time of calling this function, if we do not pass 'price' value, then the default value of 40.00 is taken. \n",
    "\n",
    "=>If we mention the 'price' value, then that mentioned value is utilized. \n",
    "\n",
    "=>So, a default argument is an argument \n",
    "           \n",
    "        that assumes a default value if a value is not provided in the function call for that argument."
   ]
  },
  {
   "cell_type": "code",
   "execution_count": 8,
   "id": "78e9e4b7",
   "metadata": {},
   "outputs": [
    {
     "name": "stdout",
     "output_type": "stream",
     "text": [
      "ID= 11\n",
      "Name= Deepak\n",
      "age= 23\n",
      "\n",
      "ID= 22\n",
      "Name= aman\n",
      "age= 23\n",
      "\n",
      "ID= 33\n",
      "Name= saroj\n",
      "age= 28\n",
      "\n"
     ]
    }
   ],
   "source": [
    "#Program of default arguments\n",
    "def record(id,name=\"Deepak\",age=23):\n",
    "    print(\"ID=\",id)\n",
    "    print(\"Name=\",name)\n",
    "    print(\"age=\",age)\n",
    "    print()\n",
    "\n",
    "record(11)\n",
    "record(22,'aman')\n",
    "record(33,\"saroj\",28)\n"
   ]
  },
  {
   "cell_type": "markdown",
   "id": "c3ed7320",
   "metadata": {},
   "source": [
    "### 3)Keyword arguments"
   ]
  },
  {
   "cell_type": "markdown",
   "id": "84e71c70",
   "metadata": {},
   "source": [
    "=>Keyword arguments are arguments that identify the parameters by their names. \n",
    "\n",
    "For example, the definition of a function that displays grocery item and its price can be written as:\n",
    "\n",
    "def grocery(item, price):\n",
    "\n",
    "\n",
    "=>At the time of calling this function, we have to pass two values and we can mention which value is for what. For example,\n",
    "\n",
    "grocery(item='Sugar', price=50.75)\n",
    "\n",
    "Here, we are mentioning a keyword 'item' and its value and then another keyword 'price' and its value. \n",
    "\n",
    "=>Please observe these keywords are nothing but the parameter names which receive these values. \n",
    "\n",
    "We can change the order of the arguments as:\n",
    "\n",
    "grocery(price=88.00, item='Oil')\n",
    "\n",
    "In this way, even though we change the order of the arguments, \n",
    "\n",
    "there will not be any problem as the parameter names will guide where to store that value."
   ]
  },
  {
   "cell_type": "markdown",
   "id": "85ec057f",
   "metadata": {},
   "source": [
    "### 4)Variable Length arguments"
   ]
  },
  {
   "cell_type": "code",
   "execution_count": null,
   "id": "4e76accd",
   "metadata": {},
   "outputs": [],
   "source": [
    "=>Sometimes, the programmer does not know how many values a function may receive. \n",
    "    \n",
    "      In that case, the programmer cannot decide how many arguments to be given in the function definition. \n",
    "       \n",
    "    For example, if the programmer is writing a function to add two numbers, he can write:\n",
    "\n",
    "add(a, b)\n",
    "\n",
    "=>But, the user who is using this function may want to use this function to find sum of three numbers. \n",
    "\n",
    "In that case, there is a chance that the user may provide 3 arguments to this function as:\n",
    "\n",
    "add(10, 15, 20)\n",
    "\n",
    "Then the add() function will fail and error will be displayed.\n",
    "\n",
    "=>If the programmer wants to develop a function that can accept 'n' arguments, that is also possible in Python. \n",
    "\n",
    "For this purpose, a variable length argument is used in the function definition. \n",
    "\n",
    "=>A variable length argument is an argument that can accept any number of values.\n",
    "\n",
    "The variable length argument is written with a' * ' symbol before it in the function definition as:\n",
    "\n",
    "def add(farg, *args):\n",
    "\n",
    "=>Here, 'farg' is the formal argument and '*args' represents variable length argument. \n",
    "\n",
    "We can pass 1 or more values to this '*args' and it will store them all in a tuple."
   ]
  },
  {
   "cell_type": "code",
   "execution_count": 9,
   "id": "e982bae6",
   "metadata": {},
   "outputs": [
    {
     "name": "stdout",
     "output_type": "stream",
     "text": [
      "(10,)\n",
      "<class 'tuple'>\n",
      "Add= 10\n",
      "\n",
      "(10, 20)\n",
      "<class 'tuple'>\n",
      "Add= 30\n",
      "\n",
      "(10, 20, 30)\n",
      "<class 'tuple'>\n",
      "Add= 60\n",
      "\n",
      "(10, 20, 30, 40)\n",
      "<class 'tuple'>\n",
      "Add= 100\n"
     ]
    }
   ],
   "source": [
    "# *args argument[Arbitary Argument]\n",
    "def show(*n):\n",
    "    print(n)\n",
    "    print(type(n))\n",
    "    return sum(n)\n",
    "print(\"Add=\",show(10))\n",
    "print()\n",
    "print(\"Add=\",show(10,20))\n",
    "print()\n",
    "print(\"Add=\",show(10,20,30))\n",
    "print()\n",
    "print(\"Add=\",show(10,20,30,40))"
   ]
  },
  {
   "cell_type": "code",
   "execution_count": 10,
   "id": "168ad89b",
   "metadata": {},
   "outputs": [
    {
     "name": "stdout",
     "output_type": "stream",
     "text": [
      "<class 'dict'>\n",
      "\n",
      "{'id': 11}\n",
      "<class 'dict'>\n",
      "\n",
      "{'id': 22, 'name': 'aman'}\n",
      "<class 'dict'>\n",
      "\n",
      "{'id': 33, 'name': 'deepak', 'age': '23'}\n"
     ]
    }
   ],
   "source": [
    "# **kwargs[keyword Arbitarary arguments]\n",
    "def record(**num):\n",
    "    print(type(num))\n",
    "    print()\n",
    "    print(num)\n",
    "    \n",
    "record(id=11)\n",
    "record(id=22,name='aman')\n",
    "record(id=33,name='deepak',age='23')"
   ]
  },
  {
   "cell_type": "markdown",
   "id": "f8828bcd",
   "metadata": {},
   "source": [
    "### <font color=\"red\">High Order Function in Python"
   ]
  },
  {
   "cell_type": "markdown",
   "id": "46fc52f2",
   "metadata": {},
   "source": [
    "=>A function is called Higher Order Function if it contains other functions as a parameter or returns a function as an outp\n",
    "    \n",
    "    output i.e, the functions that operate with another function are known as Higher order Functions.\n",
    "\n",
    "=>It is worth knowing that this higher order function is applicable for functions and methods \n",
    "        \n",
    "    as well that takes functions as a parameter or returns a function as a result.\n",
    "\n",
    "=>Python too supports the concepts of higher order functions."
   ]
  },
  {
   "cell_type": "markdown",
   "id": "34476eab",
   "metadata": {},
   "source": [
    "### Advantages of High order function"
   ]
  },
  {
   "cell_type": "markdown",
   "id": "d5d5fe11",
   "metadata": {},
   "source": [
    "=>A function is an instance of the Object type.\n",
    "\n",
    "=>You can store the function in a variable.\n",
    "\n",
    "=>You can pass the function as a parameter to another function.\n",
    "\n",
    "=>You can return the function from a function.\n",
    "\n",
    "=>You can store them in data structures such as hash tables, lists, …"
   ]
  },
  {
   "cell_type": "code",
   "execution_count": null,
   "id": "67ec6d48",
   "metadata": {},
   "outputs": [],
   "source": [
    "'''\n",
    "2 argument mandatory\n",
    "three function\n",
    "\n",
    "map(function,iterable)\n",
    "filter(function,iterable)\n",
    "reduce(function,iterable)\n",
    "\n",
    "'''"
   ]
  },
  {
   "cell_type": "code",
   "execution_count": 19,
   "id": "efdb45f6",
   "metadata": {},
   "outputs": [
    {
     "name": "stdout",
     "output_type": "stream",
     "text": [
      "HELLO\n",
      "\n",
      "HELLO\n"
     ]
    }
   ],
   "source": [
    "def shout(text): \n",
    "    return text.upper() \n",
    "    \n",
    "print(shout('Hello')) \n",
    "print()\n",
    "    \n",
    "# Assigning function to a variable\n",
    "yell = shout \n",
    "    \n",
    "print(yell('Hello'))"
   ]
  },
  {
   "cell_type": "code",
   "execution_count": 26,
   "id": "0c4e4c29",
   "metadata": {},
   "outputs": [
    {
     "name": "stdout",
     "output_type": "stream",
     "text": [
      "HI, I AM CREATED BY A FUNCTION PASSED AS AN ARGUMENT.\n",
      "hi, i am created by a function passed as an argument.\n"
     ]
    }
   ],
   "source": [
    "def shout(text): \n",
    "    return text.upper() \n",
    "    \n",
    "def whisper(text): \n",
    "    return text.lower() \n",
    "\n",
    "def greet(func): \n",
    "    # storing the function in a variable \n",
    "    greeting = func(\"Hi, I am created by a function passed as an argument.\") \n",
    "    print(greeting)\n",
    "    \n",
    "greet(shout) \n",
    "greet(whisper)"
   ]
  },
  {
   "cell_type": "markdown",
   "id": "b1e892a6",
   "metadata": {},
   "source": [
    "### <font color=\"red\">Important function (High Order)"
   ]
  },
  {
   "cell_type": "markdown",
   "id": "3b913667",
   "metadata": {},
   "source": [
    "#### 1)map()"
   ]
  },
  {
   "cell_type": "markdown",
   "id": "d474b365",
   "metadata": {},
   "source": [
    "=>The built-in function map() takes a function as a argument and applied to each of the elements of its second arguments, \n",
    "     \n",
    "    an iterable\n",
    "\n",
    "syntax:\n",
    "    \n",
    "    map(func,iterable,...)\n",
    "\n",
    "=>Returns a map objects as an iterator\n",
    "\n",
    "=>Iterable objects can be list,tuple and as an iterator\n"
   ]
  },
  {
   "cell_type": "code",
   "execution_count": 25,
   "id": "74c413b1",
   "metadata": {},
   "outputs": [
    {
     "name": "stdout",
     "output_type": "stream",
     "text": [
      "[12, 34, 45]\n",
      "\n",
      "<map object at 0x0000026DE477CFA0>\n",
      "12\n",
      "[34, 45]\n",
      "\n",
      "[12, 34, 45]\n"
     ]
    }
   ],
   "source": [
    "#program without using map\n",
    "def convert_int(x):\n",
    "    return int(x)\n",
    "\n",
    "result=[]\n",
    "mylist=['12','34','45']\n",
    "\n",
    "for items in mylist:\n",
    "    result.append(convert_int(items))\n",
    "\n",
    "print(result)\n",
    "\n",
    "print()\n",
    "\n",
    "#program by using map function\n",
    "result=map(convert_int,mylist)\n",
    "print(result)\n",
    "print(next(result))   #it returns an iterator \n",
    "\n",
    "print(list(result))\n",
    "\n",
    "print()\n",
    "\n",
    "#IN ONE LINE \n",
    "print(list(map(convert_int,mylist)))\n",
    "\n"
   ]
  },
  {
   "cell_type": "code",
   "execution_count": 29,
   "id": "f53f5414",
   "metadata": {},
   "outputs": [
    {
     "name": "stdout",
     "output_type": "stream",
     "text": [
      "[11, 22, 33, 44, 55]\n",
      "\n",
      "[31, 52, 83, 104, 125]\n",
      "[31, 52, 83, 104, 125]\n"
     ]
    }
   ],
   "source": [
    "#Adding of two list  by using map function\n",
    "\n",
    "list1=[1,2,3,4,5]\n",
    "list2=[10,20,30,40,50]\n",
    "def add(x,y):\n",
    "    return x+y\n",
    "print(list(map(add,list1,list2)))\n",
    "\n",
    "print()\n",
    "\n",
    "#program  to add three list in python\n",
    "\n",
    "list1=[1,2,3,4,5]\n",
    "list2=[10,20,30,40,50]\n",
    "list3=[20,30,50,60,70]\n",
    "def add(x,y,z):\n",
    "    return x+y+z\n",
    "print(list(map(add,list1,list2,list3)))\n",
    "\n",
    "\n",
    "\n",
    "#By using lambda function adding of three list\n",
    "list1=[1,2,3,4,5]\n",
    "list2=[10,20,30,40,50]\n",
    "list3=[20,30,50,60,70]\n",
    "print(list(map(lambda x,y,z:x+y+z,list1,list2,list3)))"
   ]
  },
  {
   "cell_type": "markdown",
   "id": "08bf171f",
   "metadata": {},
   "source": [
    "#### 2)filter()"
   ]
  },
  {
   "cell_type": "markdown",
   "id": "fa0f61c0",
   "metadata": {},
   "source": [
    "=>The filter() method filters the given sequence with the help of a function that tests each element in the sequence \n",
    "     \n",
    "    to be true or not. \n",
    "    \n",
    "syntax:\n",
    "    \n",
    "    Syntax: filter(function, sequence/iterable)\n",
    "        \n",
    "=>function: function that tests if each element of a sequence is true or not.\n",
    "\n",
    "=>sequence: sequence which needs to be filtered, it can be sets, lists, tuples, or containers of any iterators.\n",
    "\n",
    "=>Returns: an iterator that is already filtered."
   ]
  },
  {
   "cell_type": "code",
   "execution_count": 34,
   "id": "d3be1cd0",
   "metadata": {},
   "outputs": [
    {
     "name": "stdout",
     "output_type": "stream",
     "text": [
      "[12, 34, 436, 23, 67, 123]\n"
     ]
    }
   ],
   "source": [
    "#program by using filter function\n",
    "\n",
    "def greater_five(x):\n",
    "    return x>5\n",
    "\n",
    "mylist=[12,34,4,436,23,67,123]\n",
    "result=list(filter(greater_five,mylist))\n",
    "print(result)"
   ]
  },
  {
   "cell_type": "code",
   "execution_count": 44,
   "id": "2e8e2f26",
   "metadata": {},
   "outputs": [
    {
     "name": "stdout",
     "output_type": "stream",
     "text": [
      "{'e', 'a', 'o', 'i'}\n"
     ]
    }
   ],
   "source": [
    "#Program that filters a vowel\n",
    "\n",
    "def vowel(y):\n",
    "    letters = ['a', 'e', 'i', 'o', 'u']\n",
    "    if (y in letters):\n",
    "        return True\n",
    "    else:\n",
    "        return False\n",
    " \n",
    "\n",
    "sequence=['a','w','r','p','e','i','o','t','c']\n",
    "filtered=set(filter(vowel,sequence))\n",
    "print(filtered)"
   ]
  },
  {
   "cell_type": "code",
   "execution_count": 42,
   "id": "c2e91739",
   "metadata": {},
   "outputs": [
    {
     "name": "stdout",
     "output_type": "stream",
     "text": [
      "{8, 2, 4, 6}\n"
     ]
    }
   ],
   "source": [
    "list1 = [1,2,3,4,5,6,7,8,9]\n",
    "pcm = set(filter(lambda a:(a%2==0), list1))\n",
    "print(pcm)"
   ]
  },
  {
   "cell_type": "markdown",
   "id": "7e30a1d3",
   "metadata": {},
   "source": [
    "#### 3)Reduce"
   ]
  },
  {
   "cell_type": "markdown",
   "id": "b9f6264b",
   "metadata": {},
   "source": [
    "=>The reduce(fun,seq) function is used to apply a particular function passed in its argument to all of the list elements \n",
    "        \n",
    "    mentioned in the sequence passed along.\n",
    "\n",
    "=>This function is defined in “functools” module.\n",
    "\n",
    "Working :  \n",
    "\n",
    "=>At first step, first two elements of sequence are picked and the result is obtained.\n",
    "\n",
    "=>Next step is to apply the same function to the previously attained result and the number just \n",
    "      \n",
    "    succeeding the second element and the result is again stored.\n",
    "\n",
    "=>This process continues till no more elements are left in the container.\n",
    "\n",
    "=>The final returned result is returned and printed on console."
   ]
  },
  {
   "cell_type": "markdown",
   "id": "ccaabd02",
   "metadata": {},
   "source": [
    "=>This function reduces a list of elements into a single value by combining elements via a supported function\n",
    "\n",
    "=>we have to import functools library inside this reduce() method.\n",
    "\n",
    "=>syntax:\n",
    "       import functools\n",
    "       functools.reduce(function, iterable)\n",
    "       \n",
    "       \n",
    "       \n",
    "  \n",
    "       "
   ]
  },
  {
   "cell_type": "code",
   "execution_count": 3,
   "id": "af751fcb",
   "metadata": {},
   "outputs": [
    {
     "name": "stdout",
     "output_type": "stream",
     "text": [
      "The maximum element of the list is: 6\n"
     ]
    }
   ],
   "source": [
    "import functools\n",
    "li=[2,3,4,5,6]\n",
    "print(\"The maximum element of the list is:\",end=\" \")\n",
    "print(functools.reduce(lambda a,b:a if a>b else b,li ))"
   ]
  },
  {
   "cell_type": "markdown",
   "id": "595c4d85",
   "metadata": {},
   "source": [
    "## <font color=\"red\">Anamonous Function/Lambda Function"
   ]
  },
  {
   "cell_type": "markdown",
   "id": "fee3cf79",
   "metadata": {},
   "source": [
    "=>In python,ananymous is a function that is defined  without a name\n",
    "\n",
    "=>Ananymous Function are created by using a  keyword \"lambda\".\n",
    "\n",
    "=>Lambda takes an arguments and returns an evaluted expressions\n",
    "\n",
    "=>Lambda is created without using a def keyword.We use lambda function when we require a nameless function for short period\n",
    "      \n",
    "    of time\n",
    "    \n",
    "=>Lambda functions are used along with built-in functions like filter(),map(),reduce() etc.\n",
    "\n",
    "=>syntax:-lambda arg1,arg2,arg3,arg4\n",
    "    \n"
   ]
  },
  {
   "cell_type": "code",
   "execution_count": null,
   "id": "3c3bd3d0",
   "metadata": {},
   "outputs": [],
   "source": [
    "#lAMBDA FUNCTION WITHOUT USING KEYWORD\n",
    "\n",
    "msg=lambda:print(\"Welcome to Ducat\")\n",
    "msg()\n",
    "msg()\n",
    "\n",
    "#LAMBDA FUNCTION WITH ARGUMENT\n",
    "\n",
    "msg=lambda name:print(\"Hello\",name)\n",
    "msg('Deepak')\n",
    "\n",
    "\n",
    "\n",
    "#Cube \n",
    "cube=lambda x:x*x*x\n",
    "n=int(input(\"enter the number\"))\n",
    "print(\"Cube=\",cube(n))"
   ]
  },
  {
   "cell_type": "code",
   "execution_count": 3,
   "id": "4156537e",
   "metadata": {},
   "outputs": [
    {
     "name": "stdout",
     "output_type": "stream",
     "text": [
      "GEEKSFORGEEKS\n"
     ]
    }
   ],
   "source": [
    "#Program on Lambda function in python\n",
    "str1 = 'GeeksforGeeks'\n",
    " \n",
    "upper = lambda string: string.upper()\n",
    "print(upper(str1))"
   ]
  },
  {
   "cell_type": "code",
   "execution_count": null,
   "id": "d87c8ade",
   "metadata": {},
   "outputs": [],
   "source": [
    "print(\"_\"*90)\n",
    "print()\n",
    "str1=\"                *****WELCOME TO  STUDENT  MANAGEMENT  SYSTEM*****                \"\n",
    "print(str1)\n",
    "print(\"_\"*90)\n",
    "print()\n",
    "print(\"Please choose any one options:\")\n",
    "print()\n",
    "print(\"1. To view student list\")\n",
    "print(\"2. To add student list\")  \n",
    "print(\"3. To remove the data\")\n",
    "print(\"4. To search the data\")\n",
    "print(\"5. Exit\")\n",
    "print()\n",
    "\n",
    "list=['Raju','Deepak','Manish']\n",
    "\n",
    "def add():\n",
    "    name=input(\"Enter the name:\")\n",
    "    list.append(name)\n",
    "    print(\"named added succesfully\")\n",
    "    choice()\n",
    "\n",
    "def remove():\n",
    "    name=input(\"Enter the name to remove:\")\n",
    "    if name in list:\n",
    "        list.remove(name)\n",
    "        print(\"named is removed successfully\")\n",
    "    else:\n",
    "        print(\"record not found...\")\n",
    "    \n",
    "\n",
    "def search():\n",
    "    name=input(\"Enter the name to search:\")\n",
    "    if name in list:\n",
    "        print(\"record is found...\")\n",
    "    else:\n",
    "        print(\"record is not found\")\n",
    "        \n",
    "#Choice ke lie function\n",
    "def choice():\n",
    "    print(\"_\"*40)\n",
    "    print(\"_\"*90)\n",
    "    print(\"Please choose any one options:\")\n",
    "    print()\n",
    "    print(\"1. To view student list\")\n",
    "    print(\"2. To add student list\")\n",
    "    print(\"3. To remove the data\")\n",
    "    print(\"4. To search the data\")\n",
    "    print(\"5. Exit\")\n",
    "    print()\n",
    "    ch=input(\"Enter your choice:\")\n",
    "    if(ch=='1'):\n",
    "        view()\n",
    "    elif(ch=='2'):\n",
    "        add()\n",
    "    elif(ch=='3'):\n",
    "        remove()\n",
    "    elif(ch=='4'):\n",
    "        search()\n",
    "    elif(ch=='5'):\n",
    "        exit()\n",
    "    else:\n",
    "        print(\"Invalid Input\")\n",
    "\n",
    "\n",
    "ch=input(\"Enter Your choice:\")\n",
    "if(ch=='1'):\n",
    "    def view():\n",
    "        for i in list:\n",
    "            print(i)\n",
    "    view()\n",
    "while(True):\n",
    "    ch=input(\"Do you continue this(y/n):\")\n",
    "    if(ch=='n'):\n",
    "        exit()\n",
    "    elif(ch=='y'):\n",
    "        choice()\n",
    "    else:\n",
    "        print(\"Invalid Input\")\n",
    "        exit()\n",
    "\n",
    "  \n",
    "        \n",
    "\n",
    "\n"
   ]
  },
  {
   "cell_type": "markdown",
   "id": "dc6118ef",
   "metadata": {},
   "source": [
    "# Modules in Python"
   ]
  },
  {
   "cell_type": "markdown",
   "id": "ede5b29e",
   "metadata": {},
   "source": [
    "=>A Python module is a file containing Python definitions and statements. \n",
    "\n",
    "=>A module can define functions, classes, and variables. \n",
    "\n",
    "=>A module can also include runnable code. Grouping related code into a module makes the code easier to understand and use.\n",
    "\n",
    "=>It also makes the code logically organized."
   ]
  },
  {
   "cell_type": "markdown",
   "id": "f62719f4",
   "metadata": {},
   "source": [
    "### <font color=\"red\">creating  a python module"
   ]
  },
  {
   "cell_type": "code",
   "execution_count": 2,
   "id": "47c4728a",
   "metadata": {},
   "outputs": [],
   "source": [
    "# # A simple module, calc.py\n",
    "# def add(x, y):\n",
    "#     return (x+y)\n",
    " \n",
    "# def subtract(x, y):\n",
    "#     return (x-y)"
   ]
  },
  {
   "cell_type": "markdown",
   "id": "770c95cb",
   "metadata": {},
   "source": [
    "=>There are different ways of creating a module/library in python:---\n",
    "    \n",
    "1)Using import statement\n",
    "\n",
    "2)using from....import statement\n",
    "\n",
    "3)Using from....import * statement\n"
   ]
  },
  {
   "cell_type": "markdown",
   "id": "f2d86ea4",
   "metadata": {},
   "source": [
    "### <font color=\"red\">import statement"
   ]
  },
  {
   "cell_type": "markdown",
   "id": "3b76497e",
   "metadata": {},
   "source": [
    "=>We can import the functions, and classes defined in a module to another module using the import statement in some other\n",
    "   \n",
    "    Python source file.\n",
    "    \n",
    "=>Import in python is similar to include header_file in C/C++. \n",
    "\n",
    "=>Python modules can get access to code from another module by importing the file/function using import. \n",
    "\n",
    "=>The import statement is the most common way of invoking the import machinery, but it is not the only way."
   ]
  },
  {
   "cell_type": "markdown",
   "id": "789daaa8",
   "metadata": {},
   "source": [
    "#### <font color=\"red\">import math"
   ]
  },
  {
   "cell_type": "markdown",
   "id": "76698eba",
   "metadata": {},
   "source": [
    "=>When the import is used, it searches for the module initially in the local scope by calling __import__() function. \n",
    "\n",
    "=>The value returned by the function is then reflected in the output of the initial code. "
   ]
  },
  {
   "cell_type": "markdown",
   "id": "e997e4d2",
   "metadata": {},
   "source": [
    "#### <font color=\"red\">from math import pi"
   ]
  },
  {
   "cell_type": "markdown",
   "id": "51c29921",
   "metadata": {},
   "source": [
    "=>The value of pi is returned by __import__(). pi as a whole can be imported into our initial code, rather than \n",
    "   \n",
    "    importing the whole module. "
   ]
  },
  {
   "cell_type": "markdown",
   "id": "3ebcc66c",
   "metadata": {},
   "source": [
    "#### <font color=\"red\">from math import *\n"
   ]
  },
  {
   "cell_type": "markdown",
   "id": "415cd184",
   "metadata": {},
   "source": [
    "=>In the above code module, math is not imported, rather just pi has been imported as a variable. \n",
    "\n",
    "=>All the functions and constants can be imported using.\n"
   ]
  },
  {
   "cell_type": "markdown",
   "id": "420b9a33",
   "metadata": {},
   "source": [
    "# Exception handling in python\n"
   ]
  },
  {
   "cell_type": "code",
   "execution_count": 5,
   "id": "f1d0045e",
   "metadata": {},
   "outputs": [
    {
     "name": "stdout",
     "output_type": "stream",
     "text": [
      "This is my python class\n"
     ]
    }
   ],
   "source": [
    "print(\"This is my python class\")"
   ]
  },
  {
   "cell_type": "code",
   "execution_count": 3,
   "id": "4c1b5f05",
   "metadata": {},
   "outputs": [
    {
     "name": "stdout",
     "output_type": "stream",
     "text": [
      "enter the number0\n"
     ]
    }
   ],
   "source": [
    "a=int(input(\"enter the number\"))"
   ]
  },
  {
   "cell_type": "code",
   "execution_count": 4,
   "id": "fbb61ca4",
   "metadata": {},
   "outputs": [
    {
     "ename": "ZeroDivisionError",
     "evalue": "division by zero",
     "output_type": "error",
     "traceback": [
      "\u001b[1;31m---------------------------------------------------------------------------\u001b[0m",
      "\u001b[1;31mZeroDivisionError\u001b[0m                         Traceback (most recent call last)",
      "Cell \u001b[1;32mIn[4], line 1\u001b[0m\n\u001b[1;32m----> 1\u001b[0m b\u001b[38;5;241m=\u001b[39m\u001b[38;5;241;43m7\u001b[39;49m\u001b[38;5;241;43m/\u001b[39;49m\u001b[43ma\u001b[49m\n",
      "\u001b[1;31mZeroDivisionError\u001b[0m: division by zero"
     ]
    }
   ],
   "source": [
    "b=7/a"
   ]
  },
  {
   "cell_type": "code",
   "execution_count": 14,
   "id": "f41572f0",
   "metadata": {},
   "outputs": [
    {
     "name": "stdout",
     "output_type": "stream",
     "text": [
      "Enter the integer:0\n",
      "This is a wrong input\n",
      "1\n",
      "2\n",
      "34\n",
      "56\n",
      "78\n",
      "89\n"
     ]
    }
   ],
   "source": [
    "try:\n",
    "    a=int(input(\"Enter the integer:\"))\n",
    "    b=7/a\n",
    "    print(b)\n",
    "except:\n",
    "    print(\"This is a wrong input\")\n",
    "l=[1,2,34,56,78,89]\n",
    "for i  in l:\n",
    "    print(i)\n"
   ]
  },
  {
   "cell_type": "markdown",
   "id": "7564acf6",
   "metadata": {},
   "source": [
    "#### try except finally"
   ]
  },
  {
   "cell_type": "code",
   "execution_count": 16,
   "id": "b4368501",
   "metadata": {},
   "outputs": [
    {
     "name": "stdout",
     "output_type": "stream",
     "text": [
      "Enter the stringju\n",
      "This is a wrong input\n",
      "This will be always executed\n"
     ]
    }
   ],
   "source": [
    "try:\n",
    "    a=int(input(\"Enter the string\"))\n",
    "    b=7/a\n",
    "    print(b)\n",
    "except:\n",
    "    print(\"This is a wrong input\")\n",
    "finally:\n",
    "    print(\"This will be always executed\")    "
   ]
  },
  {
   "cell_type": "code",
   "execution_count": null,
   "id": "00021315",
   "metadata": {},
   "outputs": [],
   "source": []
  }
 ],
 "metadata": {
  "kernelspec": {
   "display_name": "Python 3 (ipykernel)",
   "language": "python",
   "name": "python3"
  },
  "language_info": {
   "codemirror_mode": {
    "name": "ipython",
    "version": 3
   },
   "file_extension": ".py",
   "mimetype": "text/x-python",
   "name": "python",
   "nbconvert_exporter": "python",
   "pygments_lexer": "ipython3",
   "version": "3.11.7"
  }
 },
 "nbformat": 4,
 "nbformat_minor": 5
}
